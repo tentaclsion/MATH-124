{
 "cells": [
  {
   "cell_type": "markdown",
   "metadata": {},
   "source": [
    "# Math 124 - Programming for Mathematical Applications\n",
    "UC Berkeley, Spring 2023\n",
    "\n",
    "## Homework 7\n",
    "Due Wednesday, March 15"
   ]
  },
  {
   "cell_type": "markdown",
   "metadata": {},
   "source": [
    "### Problem 1\n",
    "\n",
    "Consider a floating point representation with precision $p=2$:\n",
    "\n",
    "$$\n",
    "+(d_0 + d_1 2^{-1})2^e, \\qquad 0\\le d_i < 2\n",
    "$$\n",
    "\n",
    "normalized so that $d_0 \\ne 0$ and with the exponent $e$ ranging from\n",
    "$e_\\mathrm{min}=-2$ to $e_\\mathrm{max}=2$."
   ]
  },
  {
   "cell_type": "markdown",
   "metadata": {},
   "source": [
    "#### Problem 1(a)\n",
    "\n",
    "List the numbers that can be represented in this format."
   ]
  },
  {
   "cell_type": "markdown",
   "metadata": {},
   "source": [
    "The numbers that can be represented in this format fall within the interval (inclusively): \n",
    "$[-4, 6]$.\n",
    "\n",
    "We can determine this by finding the largest positive number that can be represented, which is the case when $d_{1} = 1$ and $e = e_{max} = 2$. We then have $+(d_{0} + d_{1}2^{-1})2^e = +(1 + 1*2^{-1})2^2 = 6$.\n",
    "\n",
    "We can then determine the largest negative number that can be represented, which is when $d_{1} = 0$ and $e = e_{max} = 2$. We then have $+(d_{0} + d_{1}2^{-1})2^e = +(1 + 0*2^{-1})2^{2} = -4$."
   ]
  },
  {
   "cell_type": "markdown",
   "metadata": {},
   "source": [
    "#### Problem 1(b)\n",
    "\n",
    "If the precision is increased from $p=2$ to $q>p$, how many new numbers would there be between two previous adjacent numbers (not including the endpoints)?"
   ]
  },
  {
   "cell_type": "markdown",
   "metadata": {},
   "source": [
    "There would be $2^{(q-p)}$ new numbers between two previous adjacent numbers (not including the endpoints). This is because $d_{i}$ can be represented by $0$ and $1$, so for precision $q$, there is a total of $2^q$ combinations for precision $q$ and a total of $2^p$ for precision $p=2$. Then, to see the difference in new numbers, subtract,\n",
    "$2^{q} - 2^{p} = 2^{q-p}$, which is just $2^{q-2}$. "
   ]
  },
  {
   "cell_type": "markdown",
   "metadata": {},
   "source": [
    "#### Problem 1(c)\n",
    "\n",
    "Between an adjacent pair of nonzero `Float32` floating point numbers, how\n",
    "many `Float64` numbers are there?"
   ]
  },
  {
   "cell_type": "markdown",
   "metadata": {},
   "source": [
    "Float32 is single precision whereas Float64 is double precision, so the difference between an adjacent pair of nonzero Float32 floating point numbers and Float64 numbers is $2^{53-24}$."
   ]
  },
  {
   "cell_type": "markdown",
   "metadata": {},
   "source": [
    "#### Problem 1(d)\n",
    "\n",
    "The floating point numbers include many integers, but not all of them. What is the smallest postive integer $n$ that is not exactly represented as a `Float64`? *Hint*: First consider $p=1,2,\\ldots$, and try to see the pattern."
   ]
  },
  {
   "cell_type": "markdown",
   "metadata": {},
   "source": [
    "The smallest positive integer $n$ that is not exactly represented as a Float64 would be the first number that falls out of what can be represented in the significand precision $2^{(52+1) + 1}$ as Float64 in Julia is double precision with $64$ bits, $1$ bit for the sign, $11$ for the exponent, and $52$ for the significand precision."
   ]
  },
  {
   "cell_type": "markdown",
   "metadata": {},
   "source": [
    "### Problem 2\n",
    "\n",
    "Find the asymptotic operation counts and memory usage for the Julia functions below, using Big O notation."
   ]
  },
  {
   "cell_type": "markdown",
   "metadata": {},
   "source": [
    "#### Problem 2(a)"
   ]
  },
  {
   "cell_type": "code",
   "execution_count": 1,
   "metadata": {},
   "outputs": [
    {
     "data": {
      "text/plain": [
       "p2a (generic function with 1 method)"
      ]
     },
     "execution_count": 1,
     "metadata": {},
     "output_type": "execute_result"
    }
   ],
   "source": [
    "function p2a(n)\n",
    "    s = 0\n",
    "    for i = 1:n\n",
    "        if i % 3 == 0\n",
    "            s += i^2\n",
    "        end\n",
    "    end\n",
    "    s\n",
    "end"
   ]
  },
  {
   "cell_type": "markdown",
   "metadata": {},
   "source": [
    "The time complexity of this function would be $O(n)$. The memory usage would be $O(1)$."
   ]
  },
  {
   "cell_type": "markdown",
   "metadata": {},
   "source": [
    "#### Problem 2(b)"
   ]
  },
  {
   "cell_type": "code",
   "execution_count": 2,
   "metadata": {},
   "outputs": [
    {
     "data": {
      "text/plain": [
       "p2b (generic function with 1 method)"
      ]
     },
     "execution_count": 2,
     "metadata": {},
     "output_type": "execute_result"
    }
   ],
   "source": [
    "function p2b(n)\n",
    "    digits = Int64[]\n",
    "    while n > 0\n",
    "        push!(digits, n % 2)\n",
    "        n = n ÷ 2\n",
    "    end\n",
    "    digits\n",
    "end"
   ]
  },
  {
   "cell_type": "markdown",
   "metadata": {},
   "source": [
    "The time complexity of this function would be $O(\\log_2 n)$. The memory usage would also be $O(\\log_2 n)$"
   ]
  },
  {
   "cell_type": "markdown",
   "metadata": {},
   "source": [
    "#### Problem 2(c)"
   ]
  },
  {
   "cell_type": "code",
   "execution_count": 2,
   "metadata": {},
   "outputs": [
    {
     "data": {
      "text/plain": [
       "p2c (generic function with 1 method)"
      ]
     },
     "execution_count": 2,
     "metadata": {},
     "output_type": "execute_result"
    }
   ],
   "source": [
    "function p2c(x)\n",
    "    n = length(x)\n",
    "    alldiff = [ abs(x[i] - x[j]) for i = 1:n, j = 1:n ]\n",
    "    for i = 1:n\n",
    "        alldiff[i,i] += Inf\n",
    "    end\n",
    "    mindiff = minimum(alldiff)\n",
    "end"
   ]
  },
  {
   "cell_type": "markdown",
   "metadata": {},
   "source": [
    "The time complexity of this function would be $O(n^2)$. Its memory usage would also be $O(n^2)$"
   ]
  },
  {
   "cell_type": "markdown",
   "metadata": {},
   "source": [
    "#### Problem 2(d)\n",
    "\n",
    "Write a function `p2d(x)` which computes the same thing as `p2c(x)` but using asymptotically less operations and memory, and find its asymptotical operations and memory usage as before."
   ]
  },
  {
   "cell_type": "markdown",
   "metadata": {},
   "source": []
  },
  {
   "cell_type": "code",
   "execution_count": 11,
   "metadata": {},
   "outputs": [
    {
     "name": "stdout",
     "output_type": "stream",
     "text": [
      "[32, 95, 37, 13, 29, 67]\n",
      "p2d: 16\n"
     ]
    }
   ],
   "source": [
    "function p2d(x)\n",
    "    n = length(x)\n",
    "    min_most = minimum(x)\n",
    "    filter!(a->a≠min_most,x)\n",
    "    min_sec = minimum(x)\n",
    "    return abs(min_most - min_sec)\n",
    "end\n",
    "\n",
    "lst = rand(1:100, 6)\n",
    "println(lst)\n",
    "#println(\"p2c: \", p2c(lst))\n",
    "println(\"p2d: \", p2d(lst))"
   ]
  },
  {
   "cell_type": "markdown",
   "metadata": {},
   "source": []
  }
 ],
 "metadata": {
  "kernelspec": {
   "display_name": "Julia 1.6.3",
   "language": "julia",
   "name": "julia-1.6"
  },
  "language_info": {
   "file_extension": ".jl",
   "mimetype": "application/julia",
   "name": "julia",
   "version": "1.6.3"
  }
 },
 "nbformat": 4,
 "nbformat_minor": 2
}
