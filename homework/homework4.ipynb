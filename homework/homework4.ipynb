{
 "cells": [
  {
   "cell_type": "markdown",
   "metadata": {},
   "source": [
    "# Math 124 - Programming for Mathematical Applications\n",
    "UC Berkeley, Spring 2023\n",
    "\n",
    "## Homework 4\n",
    "Due Wednesday, February 15"
   ]
  },
  {
   "cell_type": "markdown",
   "metadata": {},
   "source": [
    "### Problem 1\n",
    "\n",
    "(from **Insight**, P6.1.10)\n",
    "\n",
    "Write a program that generates $n=10$ real numbers selected randomly and\n",
    "uniformly distributed from the set\n",
    "$\\{x : 0 < x < 2\\text{ or }7 < x < 10\\}$."
   ]
  },
  {
   "cell_type": "code",
   "execution_count": 1,
   "metadata": {},
   "outputs": [
    {
     "data": {
      "text/plain": [
       "10-element Vector{Float64}:\n",
       " 9.743800274379199\n",
       " 0.19371841937264822\n",
       " 1.9036479903638952\n",
       " 1.967671996766232\n",
       " 0.17779681778050396\n",
       " 1.729339572933228\n",
       " 0.6741888674192126\n",
       " 0.5711996571203944\n",
       " 7.15353041535394\n",
       " 1.3781085378104756"
      ]
     },
     "execution_count": 1,
     "metadata": {},
     "output_type": "execute_result"
    }
   ],
   "source": [
    "using Random\n",
    "\n",
    "n = 10\n",
    "s = [range(1e-12, stop=2-1e-12, length=10000000); range(7+1e-12, stop=10-1e-12, length=10000000)]\n",
    "rando = rand(s, n)"
   ]
  },
  {
   "cell_type": "markdown",
   "metadata": {},
   "source": [
    "### Problem 2\n",
    "\n",
    "(from **Insight**, P6.1.12)\n",
    "\n",
    "Assume that the coefficients of the quadratic $a x^2 + bx + c$ are selected from the uniform\n",
    "distribution on $(−2, 2)$. Use the Monte Carlo method to determine the probability of complex roots. What if the coefficients are generated with `randn` with mean $\\mu=0$ and standard deviation $\\sigma = 0.4$?"
   ]
  },
  {
   "cell_type": "code",
   "execution_count": 2,
   "metadata": {},
   "outputs": [
    {
     "name": "stdout",
     "output_type": "stream",
     "text": [
      "Probability of complex roots from uniformly distributed random numbers on interval (-2,2):\n",
      "0.37016\n",
      "\n",
      "Probability of complex roots from normal distribution with a mean μ=0 and σ=0.4:\n",
      "0.35095\n"
     ]
    }
   ],
   "source": [
    "using Random\n",
    "using PyPlot\n",
    "\n",
    "ntrials = 1e5\n",
    "out = Float64[]\n",
    "sum_r = 0\n",
    "sum_m = 0\n",
    "μ = 0\n",
    "σ = 0.4\n",
    "for i = 1:ntrials\n",
    "    r = -2 .+ rand(3) .* 4\n",
    "    r_n = [σ*randn() + μ; σ*randn() + μ; σ*randn() + μ]\n",
    "    determinant_1 = r[2]^2 - 4*r[1]*r[3]\n",
    "    determinant_2 = r_n[2]^2 - 4*r_n[1]*r_n[3]\n",
    "    if determinant_1 < 0\n",
    "        sum_r += 1\n",
    "    end\n",
    "    if determinant_2 < 0\n",
    "        sum_m += 1\n",
    "    end\n",
    "end\n",
    "\n",
    "average_r = sum_r / ntrials\n",
    "average_m = sum_m / ntrials\n",
    "println(\"Probability of complex roots from uniformly distributed random numbers on interval (-2,2):\\n\", average_r,\"\\n\")\n",
    "println(\"Probability of complex roots from normal distribution with a mean μ=0 and σ=0.4:\\n\", average_m)"
   ]
  },
  {
   "cell_type": "code",
   "execution_count": null,
   "metadata": {},
   "outputs": [],
   "source": []
  },
  {
   "cell_type": "markdown",
   "metadata": {},
   "source": [
    "### Problem 3\n",
    "\n",
    "(from **Insight**, P6.1.15)\n",
    "\n",
    "Two points on the unit circle are randomly selected. Use the Monte Carlo method to determine the probability that the length of the connecting chord is greater than 1."
   ]
  },
  {
   "cell_type": "code",
   "execution_count": 3,
   "metadata": {},
   "outputs": [
    {
     "name": "stdout",
     "output_type": "stream",
     "text": [
      "Probability that two randomly selecting points on the unit circle have a chord length greater than 1:\n",
      "0.51574\n"
     ]
    }
   ],
   "source": [
    "ntrials = 1e5\n",
    "sum = 0\n",
    "for i = 1:ntrials\n",
    "    u_r = (2rand(2) .- 1, 2rand(2) .- 1)\n",
    "    x_1 = u_r[1][1]\n",
    "    x_2 = u_r[2][1]\n",
    "    y_1 = u_r[1][2]\n",
    "    y_2 = u_r[2][2]\n",
    "    chord = sqrt((x_2-x_1)^2 + (y_2-y_1)^2)\n",
    "    if chord > 1\n",
    "        sum += 1\n",
    "    end\n",
    "end\n",
    "average = sum / ntrials\n",
    "println(\"Probability that two randomly selecting points on the unit circle have a chord length greater than 1:\\n\", average)"
   ]
  },
  {
   "cell_type": "markdown",
   "metadata": {},
   "source": [
    "### Problem 4\n",
    "\n",
    "(from **Insight**, P6.1.19a)\n",
    "\n",
    "Write a function `ProbG(L,R)` that returns an estimate of the area under the function\n",
    "\n",
    "$$\n",
    "f(x) =  \\frac{1}{\\sqrt{2\\pi}} e^{-x^2/2}\n",
    "$$\n",
    "\n",
    "from $L$ to $R$ using Monte Carlo. Assume $L < R$. *Hint*: Throw darts in the rectangle having\n",
    "vertices $(L, 0)$, $(R, 0)$, $(R, 1)$, and $(L, 1)$ and count how many are under the curve."
   ]
  },
  {
   "cell_type": "code",
   "execution_count": 4,
   "metadata": {},
   "outputs": [
    {
     "data": {
      "text/plain": [
       "ProbG (generic function with 1 method)"
      ]
     },
     "execution_count": 4,
     "metadata": {},
     "output_type": "execute_result"
    }
   ],
   "source": [
    "function ProbG(L, R)\n",
    "    n = 100000\n",
    "    x = L .+ (R - L) .* rand(n)\n",
    "    y = rand(n)\n",
    "    hits = 0\n",
    "    for i=1:n\n",
    "        f_x = ((1/sqrt(2*pi)) * ((ℯ)^(-(x[i]^2.0)/2)))\n",
    "        if f_x > y[i] \n",
    "            hits += 1\n",
    "        end\n",
    "    end\n",
    "    approx = hits/n\n",
    "    return 2approx\n",
    "end"
   ]
  },
  {
   "cell_type": "markdown",
   "metadata": {},
   "source": [
    "Test the function using $L=0$ and $R=2$:"
   ]
  },
  {
   "cell_type": "code",
   "execution_count": 5,
   "metadata": {},
   "outputs": [
    {
     "data": {
      "text/plain": [
       "0.47508"
      ]
     },
     "execution_count": 5,
     "metadata": {},
     "output_type": "execute_result"
    }
   ],
   "source": [
    "ProbG(0, 2)"
   ]
  },
  {
   "cell_type": "markdown",
   "metadata": {},
   "source": [
    "### Problem 5\n",
    "\n",
    "(from **Insight**, P6.2.5)\n",
    "\n",
    "Consider the random walk function `random_walk(n)` from the lecture slides.\n",
    "\n",
    "We conjecture that the walker is more likely to exit near the middle of an edge than near a\n",
    "corner. Produce a bar plot that sheds light on this conjecture, for `n=20` and a large number of trials. "
   ]
  },
  {
   "cell_type": "code",
   "execution_count": 6,
   "metadata": {},
   "outputs": [
    {
     "data": {
      "image/png": "[encoded data removed]",
      "text/plain": [
       "Figure(PyObject <Figure size 640x480 with 1 Axes>)"
      ]
     },
     "metadata": {},
     "output_type": "display_data"
    }
   ],
   "source": [
    "using PyPlot\n",
    "function random_walk(n)\n",
    "    x = [0]\n",
    "    y = [0]\n",
    "    while abs(x[end]) < n && abs(y[end]) < n\n",
    "        if rand() < 0.5\n",
    "            if rand() < 0.5  # Up\n",
    "                push!(x, x[end])\n",
    "                push!(y, y[end] + 1)\n",
    "            else             # Down\n",
    "                push!(x, x[end])\n",
    "                push!(y, y[end] - 1)\n",
    "            end\n",
    "        else\n",
    "            if rand() < 0.5  # Right\n",
    "                push!(x, x[end] + 1)\n",
    "                push!(y, y[end])\n",
    "            else             # Left    \n",
    "                push!(x, x[end] - 1)\n",
    "                push!(y, y[end])\n",
    "            end\n",
    "        end\n",
    "    end\n",
    "    x,y\n",
    "end\n",
    "\n",
    "n = 10\n",
    "x,y = random_walk(n)\n",
    "\n",
    "plot(x, y, marker=\".\", markersize=8)     # Draw dots at each point in x,y\n",
    "grid(true)\n",
    "axis([-n,n,-n,n]);"
   ]
  },
  {
   "cell_type": "markdown",
   "metadata": {},
   "source": [
    "### Problem 6"
   ]
  },
  {
   "cell_type": "markdown",
   "metadata": {},
   "source": [
    "Use Monte Carlo simulation with one million trials to estimate the probability that a random poker hand contains two pairs (that is, two of each of two different ranks and a fifth card of a third rank)."
   ]
  },
  {
   "cell_type": "code",
   "execution_count": 7,
   "metadata": {},
   "outputs": [
    {
     "name": "stdout",
     "output_type": "stream",
     "text": [
      "Probability of a hand containing two pair: 0.300273\n"
     ]
    }
   ],
   "source": [
    "n=1e6\n",
    "cards = 1:52\n",
    "card_sorted = [(@. (cards-1) % 13 + 1) (@. (cards-1) ÷ 13 + 1)]\n",
    "deuce = 0\n",
    "for i=1:n\n",
    "    hand = randperm(52)\n",
    "    hand = hand[1:5]\n",
    "    hand = [(@. (hand-1) % 13 + 1) (@. (hand-1) ÷ 13 + 1)]\n",
    "    counter = 0\n",
    "    doubles = []\n",
    "    for j=1:13\n",
    "        if count(x->x==j, hand) == 2 && !(any(x->x==j, doubles))\n",
    "            counter += 1\n",
    "        end\n",
    "    end \n",
    "    if counter == 2\n",
    "        deuce += 1\n",
    "    end\n",
    "end\n",
    "p = deuce / n\n",
    "println(\"Probability of a hand containing two pair: \", p)"
   ]
  },
  {
   "cell_type": "markdown",
   "metadata": {},
   "source": [
    "### Problem 7\n",
    "\n",
    "Use array functions and vectorization to solve the problems below using *only a single line of code* for each problem."
   ]
  },
  {
   "cell_type": "code",
   "execution_count": 30,
   "metadata": {},
   "outputs": [
    {
     "data": {
      "text/plain": [
       "9×5 Matrix{Int64}:\n",
       "   0   -2  -4   5   3\n",
       " -10   -1  -3   6   4\n",
       "  -9    0  -2   7   5\n",
       "  -8  -10  -1   8   6\n",
       "  -7   -9   0   9   7\n",
       "  -6   -8   1  10   8\n",
       "  -5   -7   2   0   9\n",
       "  -4   -6   3   1  10\n",
       "  -3   -5   4   2   0"
      ]
     },
     "execution_count": 30,
     "metadata": {},
     "output_type": "execute_result"
    }
   ],
   "source": [
    "A = reshape((-22:22) .% 11, 9, 5)          # For testing"
   ]
  },
  {
   "cell_type": "markdown",
   "metadata": {},
   "source": [
    "### Problem 7(a)\n",
    "\n",
    "Count the number of elements $a$ of $A$ that satisfy $a^2<10$."
   ]
  },
  {
   "cell_type": "code",
   "execution_count": 13,
   "metadata": {},
   "outputs": [
    {
     "data": {
      "text/plain": [
       "17"
      ]
     },
     "execution_count": 13,
     "metadata": {},
     "output_type": "execute_result"
    }
   ],
   "source": [
    "elm = length([a for a in A if a^2 < 10])"
   ]
  },
  {
   "cell_type": "markdown",
   "metadata": {},
   "source": [
    "### Problem 7(b)\n",
    "\n",
    "Create a matrix which contains only the columns $j$ of $A$ where the first element $A_{1,j} \\ge 0$."
   ]
  },
  {
   "cell_type": "code",
   "execution_count": 20,
   "metadata": {},
   "outputs": [
    {
     "data": {
      "text/plain": [
       "3-element Vector{Vector{Int64}}:\n",
       " [0, -10, -9, -8, -7, -6, -5, -4, -3]\n",
       " [5, 6, 7, 8, 9, 10, 0, 1, 2]\n",
       " [3, 4, 5, 6, 7, 8, 9, 10, 0]"
      ]
     },
     "execution_count": 20,
     "metadata": {},
     "output_type": "execute_result"
    }
   ],
   "source": [
    "m = [A[:, j] for j in 1:size(A,2) if A[1, j] ≥ 0]"
   ]
  },
  {
   "cell_type": "markdown",
   "metadata": {},
   "source": [
    "### Problem 7(c)\n",
    "\n",
    "Modify $A$ in the following way: Multiply all the elements that are even by 3 (you might need to print $A$ on a separate line to see the full matrix):"
   ]
  },
  {
   "cell_type": "code",
   "execution_count": 31,
   "metadata": {},
   "outputs": [
    {
     "data": {
      "text/plain": [
       "9×5 Matrix{Int64}:\n",
       "   0   -6  -12   5   3\n",
       " -30   -1   -3  18  12\n",
       "  -9    0   -6   7   5\n",
       " -24  -30   -1  24  18\n",
       "  -7   -9    0   9   7\n",
       " -18  -24    1  30  24\n",
       "  -5   -7    6   0   9\n",
       " -12  -18    3   1  30\n",
       "  -3   -5   12   6   0"
      ]
     },
     "execution_count": 31,
     "metadata": {},
     "output_type": "execute_result"
    }
   ],
   "source": [
    "A = [A[i,j] % 2 == 0 ? A[i,j] * 3 : A[i,j] for i in 1:size(A,1), j in 1:size(A,2)]"
   ]
  }
 ],
 "metadata": {
  "kernelspec": {
   "display_name": "Julia 1.6.3",
   "language": "julia",
   "name": "julia-1.6"
  },
  "language_info": {
   "file_extension": ".jl",
   "mimetype": "application/julia",
   "name": "julia",
   "version": "1.6.3"
  }
 },
 "nbformat": 4,
 "nbformat_minor": 2
}
