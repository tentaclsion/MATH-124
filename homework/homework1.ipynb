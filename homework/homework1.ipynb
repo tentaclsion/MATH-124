{
 "cells": [
  {
   "cell_type": "markdown",
   "metadata": {},
   "source": [
    "# Math 124 - Programming for Mathematical Applications\n",
    "UC Berkeley, Spring 2023\n",
    "\n",
    "## Homework 1\n",
    "Due Wednesday Jan 25\n"
   ]
  },
  {
   "cell_type": "markdown",
   "metadata": {},
   "source": [
    "### Problem 1: Markdown / LaTeX\n",
    "\n",
    "A page of mathematical text is provided as a PNG image below. Write this entire text segment as a Markdown / LaTeX cell.\n",
    "\n",
    "The following online resources can be helpful:\n",
    "\n",
    "- [Markdown Cheat-sheet](https://github.com/adam-p/markdown-here/wiki/Markdown-Here-Cheatsheet)\n",
    "- [Wiki-books LaTeX/Mathematics](https://en.wikibooks.org/wiki/LaTeX/Mathematics)\n",
    "- [LaTeX Math Cheat-sheet](http://tug.ctan.org/info/undergradmath/undergradmath.pdf)\n",
    "\n",
    "![md_latex_exercise1.png](https://github.com/popersson/math124files/raw/main/homework/md_latex_exercise1.png)"
   ]
  },
  {
   "cell_type": "markdown",
   "metadata": {},
   "source": []
  },
  {
   "cell_type": "markdown",
   "metadata": {},
   "source": [
    "### Problem 2\n",
    "\n",
    "Fill in all the question marks in the comments (first try without running any code)."
   ]
  },
  {
   "cell_type": "code",
   "execution_count": 1,
   "metadata": {},
   "outputs": [],
   "source": [
    "X = 8;\n",
    "# X = ?, Y = ?\n",
    "Y = X;\n",
    "# X = ?, Y = ?\n",
    "X = Y;\n",
    "# X = ?, Y = ?\n",
    "X *= 2;\n",
    "# X = ?, Y = ?\n",
    "Y /= 2;\n",
    "# X = ?, Y = ?"
   ]
  },
  {
   "cell_type": "markdown",
   "metadata": {},
   "source": [
    "### Problem 3\n",
    "\n",
    "(from **Insight**, P1.1.6)\n",
    "\n",
    "An ellipse with semiaxes $a$ and $b$ is specified by\n",
    "\n",
    "$$\\left( \\frac{x}{a} \\right)^2 + \\left( \\frac{y}{b} \\right)^2 = 1$$\n",
    "\n",
    "If $r=a=b$, then this defines a circle whose perimeter is given by $P=2\\pi r$.\n",
    "Unfortunately, if $a \\ne b$, then there is no simple formula for the perimeter\n",
    "and we must resort to approximation. Numerous possibilities have been worked out:\n",
    "\n",
    "\\begin{align*}\n",
    "P_1 &= \\pi(a+b) & P_5 &= \\pi(a+b)\\left(1+\\frac{3h}{10+\\sqrt{4-3h}}\\right) \\\\\n",
    "P_2 &= \\pi\\sqrt{2(a^2+b^2)} & P_6 &= \\pi(a+b)\\frac{64-3h^2}{64-16h} \\\\\n",
    "P_3 &= \\pi\\sqrt{2(a^2+b^2)-\\frac{(a-b)^2}{2}} & \n",
    "   P_7 &= \\pi(a+b)\\frac{256-48h-21h^2}{256-112h+3h^2} \\\\\n",
    "P_4 &= \\pi(a+b)\\left(1+\\frac{h}{8}\\right)^2 &\n",
    "   P_8 &= \\pi(a+b)\\left(\\frac{3-\\sqrt{1-h}}{2}\\right)\n",
    "\\end{align*}\n",
    "\n",
    "Here,\n",
    "\n",
    "$$ h = \\left(\\frac{a-b}{a+b}\\right)^2 $$\n",
    "\n",
    "can be regarded as a departure from \"circlehood.\""
   ]
  },
  {
   "cell_type": "markdown",
   "metadata": {},
   "source": [
    "### Problem 3 (a)\n",
    "\n",
    "Write a function `printallP(a,b)` which computes each of the 8 approximations\n",
    "and prints each value using `println`."
   ]
  },
  {
   "cell_type": "code",
   "execution_count": null,
   "metadata": {},
   "outputs": [],
   "source": [
    "function printallP(a,b)\n",
    "    # Compute and print each of the 8 approximations\n",
    "    \n",
    "    \n",
    "end"
   ]
  },
  {
   "cell_type": "markdown",
   "metadata": {},
   "source": [
    "### Problem 3 (b)\n",
    "\n",
    "Run `printallP` for the parameters $(a,b) = (1,1)$, $(1,0.5)$, and $(1,0.1)$."
   ]
  },
  {
   "cell_type": "markdown",
   "metadata": {},
   "source": [
    "# This is the top-level header\n",
    "*This text is emphasized*, **this text is bold**, and ***this text is both.***\n",
    "\n",
    "## A sub header\n",
    "Some inline math $\\hat{u}(x) = a\\varphi(x)$ and some display-style math:\n",
    "$$\n",
    "\\int_{-1}^1 f(x)\\,dx \\approx \\sum_{i=1}^n w_{i}f(x_i)\n",
    "$$\n",
    "where $x_{i}$, $w_{i}$, $i = 1,\\dots, n$ are specified points and weights.\n",
    "Example of cases:\n",
    "$$\n",
    "\\varphi(x) = \n",
    "\\begin{cases}\n",
    "2x,\t&\\text{x} \\leq \\frac{1}{2},\\\\\n",
    "2-2x,\t&\\text{x > } \\frac{1}{2}.\n",
    "\\end{cases}\n",
    "$$\n",
    "\n",
    "### A sub-sub header\n",
    "Some bullet points with math:\n",
    "* A is symmetric, that is, $a_{i,j} = a_{j,i}$\n",
    "* A is tridiagonal, that is, $a_{i,j} = 0$ whenever $|i-j| > 1$\n",
    "\n",
    "and some enumerated points:\n",
    "1. First\n",
    "2. Second\n",
    "3. Third\n",
    "\n",
    "Inline Julia code with syntax highlighting:\n",
    "```julia\n",
    "function myfunc(x)\n",
    "\treturn 2x + 1\n",
    "end\n",
    "```\n",
    "\n",
    "Multiple equations with aligned first equal signs:\n",
    "$$\n",
    "\\begin{align}\n",
    "\t&a_{1 1} = 4 \\cdot 4 \\cdot \\frac{1}{4} + (-4)(-4)\\frac{1}{4} = 8 \\\\\n",
    "\t&a_{2 1} = a_{1 2} = a_{2 3} = a_{3 2} = -4 \n",
    "\\end{align}\n",
    "$$\n",
    "\n",
    "and some vectors and matrices\n",
    "$$\n",
    "\\begin{pmatrix}\n",
    "\t8 &-4 &0 \\\\\n",
    "\t-4 &8 &-4 \\\\\n",
    "\t0 &-4 &8 \n",
    "\\end{pmatrix}\n",
    "\\begin{pmatrix}\n",
    "\tu_{1} \\\\\n",
    "\tu_{2} \\\\\n",
    "\tu_{3} \n",
    "\\end{pmatrix} = \\frac{1}{4}\n",
    "\\begin{pmatrix}\n",
    "\t1 \\\\\n",
    "\t1 \\\\\n",
    "\t1 \n",
    "\\end{pmatrix}.\n",
    "$$\n",
    "\n",
    "Finally a horizontal line:\n",
    "\n",
    "---"
   ]
  },
  {
   "cell_type": "code",
   "execution_count": 3,
   "metadata": {},
   "outputs": [],
   "source": [
    "#Problem 2\n",
    "X = 8;\n",
    "# X = 8\n",
    "Y = X;\n",
    "# X = 8, Y = 8\n",
    "X = Y;\n",
    "# X = 8, Y = 8\n",
    "X *= 2;\n",
    "# X = 16, Y = 8\n",
    "Y /= 2;\n",
    "# X = 16, Y = 4"
   ]
  },
  {
   "cell_type": "code",
   "execution_count": 4,
   "metadata": {},
   "outputs": [
    {
     "name": "stdout",
     "output_type": "stream",
     "text": [
      "6.283185307179586\n",
      "6.283185307179586\n",
      "6.283185307179586\n",
      "6.283185307179586\n",
      "6.283185307179586\n",
      "6.283185307179586\n",
      "6.283185307179586\n",
      "6.283185307179586\n",
      "\n",
      "4.71238898038469\n",
      "4.967294132898051\n",
      "4.841519436353346\n",
      "4.844197699936344\n",
      "4.844224108065043\n",
      "4.838613685216422\n",
      "4.844224098583075\n",
      "4.847142001497851\n",
      "\n",
      "3.455751918948773\n",
      "4.465042092769171\n",
      "3.9924192049131455\n",
      "4.058287586404561\n",
      "4.063927210018872\n",
      "3.88878836289688\n",
      "4.063793684013894\n",
      "4.190169051843549\n"
     ]
    }
   ],
   "source": [
    "#Problem 3(a)\n",
    "function printallP(a,b)\n",
    "    # Compute and print each of the 8 approximations\n",
    "    h = (((a-b)/(a+b))^2)\n",
    "    p_1 = pi*(a+b)\n",
    "    println(p_1)\n",
    "    p_2 = pi*(sqrt(2((a^2)+(b^2))))\n",
    "    println(p_2)\n",
    "    p_3 = pi*(sqrt( 2((a^2)+(b^2))- (((a-b)^2)/2)))\n",
    "    println(p_3)\n",
    "    p_4 = p_1*((1+(h/8))^2)\n",
    "    println(p_4)\n",
    "    p_5 = p_1*(1+((3*h)/(10+sqrt(4-3*h))))\n",
    "    println(p_5)\n",
    "    p_6 = p_1*((64-(3*h)^2)/(64-16*h))\n",
    "    println(p_6)\n",
    "    p_7 = p_1*((256-(48*h)-(21*(h^2)))/(256-(112*h)+(3*(h^2))))\n",
    "    println(p_7)\n",
    "    p_8 = p_1*((3-sqrt(1-h))/2)\n",
    "    println(p_8)\n",
    "end\n",
    "\n",
    "#Problem 3(b)\n",
    "printallP(1.0,1)\n",
    "println(\"\")\n",
    "printallP(1.0,.5)\n",
    "println(\"\")\n",
    "printallP(1.0,.1)"
   ]
  }
 ],
 "metadata": {
  "kernelspec": {
   "display_name": "Julia 1.6.3",
   "language": "julia",
   "name": "julia-1.6"
  },
  "language_info": {
   "file_extension": ".jl",
   "mimetype": "application/julia",
   "name": "julia",
   "version": "1.6.3"
  }
 },
 "nbformat": 4,
 "nbformat_minor": 2
}
