{
 "cells": [
  {
   "cell_type": "markdown",
   "metadata": {},
   "source": [
    "# Math 124 - Programming for Mathematical Applications\n",
    "UC Berkeley, Spring 2023\n",
    "\n",
    "## Homework 5\n",
    "Due Wednesday, February 22"
   ]
  },
  {
   "cell_type": "markdown",
   "metadata": {},
   "source": [
    "### Problem 1\n",
    "\n",
    "What does the following function compute (in terms of $x,y$)? Explain why.\n",
    "\n",
    "```julia\n",
    "function fun1(x,y)\n",
    "    if x == 0\n",
    "        return y\n",
    "    else\n",
    "        return fun1(x - 1, x + y)\n",
    "    end\n",
    "end\n",
    "```"
   ]
  },
  {
   "cell_type": "markdown",
   "metadata": {},
   "source": []
  },
  {
   "cell_type": "markdown",
   "metadata": {},
   "source": [
    "### Problem 2\n",
    "\n",
    "What does the following function compute (in terms of $a,b$)? Explain why.\n",
    "\n",
    "\n",
    "```julia\n",
    "function fun2(a,b)\n",
    "    if b == 0\n",
    "        return 1\n",
    "    elseif b % 2 == 0\n",
    "        return fun2(a * a, b ÷ 2)\n",
    "    else\n",
    "        return fun2(a * a, b ÷ 2) * a\n",
    "    end\n",
    "end\n",
    "```"
   ]
  },
  {
   "cell_type": "markdown",
   "metadata": {},
   "source": []
  },
  {
   "cell_type": "markdown",
   "metadata": {},
   "source": [
    "### Problem 3\n",
    "\n",
    "Predict the output of the code below (try first without running it):\n",
    "\n",
    "```julia\n",
    "function fun3(x)\n",
    "    if x > 0\n",
    "        x -= 1\n",
    "        fun3(x)\n",
    "        print(x, \" \")\n",
    "        x -= 1\n",
    "        fun3(x)\n",
    "    end\n",
    "end\n",
    "\n",
    "fun3(5)\n",
    "```"
   ]
  },
  {
   "cell_type": "markdown",
   "metadata": {},
   "source": []
  },
  {
   "cell_type": "markdown",
   "metadata": {},
   "source": [
    "### Problem 4 - Mandelbrot set\n",
    "\n",
    "The Mandelbrot set is the set of complex numbers $z_0 = C$ such that the quadratic recurrence equation\n",
    "\n",
    "$$\n",
    "z_{n+1} = z_n^2 + C\n",
    "$$\n",
    "\n",
    "does not tend to infinity.\n",
    "\n",
    "To visualize the set, you will:\n",
    "\n",
    "1. Create a matrix of points $C$ in the complex plane\n",
    "2. Iterate the recurrence for each point $C$ until $|z_n|>4$, and count the number of iterations $n$\n",
    "3. For the points where the number of iterations exceeds `maxiter`, we will assume that the sequence is convergent and set $n=0$\n",
    "4. Visualize the set by an image plot of the $n$-values\n"
   ]
  },
  {
   "cell_type": "markdown",
   "metadata": {},
   "source": [
    "### Problem 4(a)\n",
    "\n",
    "Write a function with the syntax\n",
    "\n",
    "```julia\n",
    "    function mkCmatrix(xmin, xmax, ymin, ymax, nx, ny)\n",
    "```\n",
    "\n",
    "which computes `nx` equidistributed numbers $x_k$ between `xmin` and `xmax`, `ny` equidistributed numbers $y_j$ between `ymin` and `ymax`, and returns the `ny`-by-`nx` matrix $C$ with complex entries $C_{jk} = x_k + iy_j$."
   ]
  },
  {
   "cell_type": "code",
   "execution_count": null,
   "metadata": {},
   "outputs": [],
   "source": []
  },
  {
   "cell_type": "markdown",
   "metadata": {},
   "source": [
    "### Problem 4(b)\n",
    "\n",
    "Write a function\n",
    "\n",
    "```julia\n",
    "   function mandelbrot_set(C, maxiter)\n",
    "```\n",
    "\n",
    "which takes a matrix $C$ as described above and an integer `maxiter`, and returns an integer matrix $N$ of the same size as $C$ containing the iteration counts $n$ as described above."
   ]
  },
  {
   "cell_type": "code",
   "execution_count": null,
   "metadata": {},
   "outputs": [],
   "source": []
  },
  {
   "cell_type": "markdown",
   "metadata": {},
   "source": [
    "### Problem 4(c)\n",
    "\n",
    "Run the code below to visualize the set."
   ]
  },
  {
   "cell_type": "code",
   "execution_count": null,
   "metadata": {},
   "outputs": [],
   "source": [
    "C = mkCmatrix(-2.25, 0.75, -1.25, 1.25, 600, 500)\n",
    "maxiter = 50\n",
    "N = mandelbrot_set(C, maxiter)\n",
    "\n",
    "using PyPlot\n",
    "imshow(N, cmap=ColorMap(\"hot\"));"
   ]
  },
  {
   "cell_type": "markdown",
   "metadata": {},
   "source": [
    "### Problem 5 - Koch curve\n",
    "\n",
    "A Koch curve between two points $(x_1,y_1)$ and $(x_2,y_2)$ can be defined as follows:\n",
    "\n",
    "1. If `level` is zero, draw a straight line between the two points\n",
    "2. Otherwise, define the following 3 additional points\n",
    "\n",
    "$$\n",
    "\\begin{align*}\n",
    "\\Delta x &= x2 - x1 \\\\\n",
    "\\Delta y &= y2 - y1 \\\\\n",
    "x_3 &= x1 + \\Delta x / 3 \\\\\n",
    "y_3 &= y1 + \\Delta y / 3 \\\\\n",
    "x_5 &= x1 + 2\\Delta x / 3 \\\\\n",
    "y_5 &= y1 + 2\\Delta y / 3 \\\\\n",
    "x_4 &= (x1 + x2) / 2 - \\Delta y / 2\\sqrt{3} \\\\\n",
    "y_4 &= (y1 + y2) / 2 + \\Delta x / 2\\sqrt{3} \\\\\n",
    "\\end{align*}\n",
    "$$\n",
    "\n",
    "3. Draw Koch curves of level `level - 1` between the following pairs of points:\n",
    "\n",
    "$$\n",
    "\\begin{align*}\n",
    "(x_1, y_1)&\\text{ to }(x_3, y_3) \\\\\n",
    "(x_3, y_3)&\\text{ to }(x_4, y_4) \\\\\n",
    "(x_4, y_4)&\\text{ to }(x_5, y_5) \\\\\n",
    "(x_5, y_5)&\\text{ to }(x_2, y_2) \\\\\n",
    "\\end{align*}\n",
    "$$"
   ]
  },
  {
   "cell_type": "markdown",
   "metadata": {},
   "source": [
    "### Problem 5(a)\n",
    "\n",
    "Write a function\n",
    "\n",
    "```julia\n",
    "function koch_curve(x1, y1, x2, y2, level)\n",
    "```\n",
    "\n",
    "which draws a Koch curve as described above."
   ]
  },
  {
   "cell_type": "code",
   "execution_count": null,
   "metadata": {},
   "outputs": [],
   "source": []
  },
  {
   "cell_type": "markdown",
   "metadata": {},
   "source": [
    "### Problem 5(b)\n",
    "\n",
    "Draw a Koch curve of level 4 between the points $(0,0)$ and $(3,0)$. Use `axis(\"equal\")`."
   ]
  },
  {
   "cell_type": "code",
   "execution_count": null,
   "metadata": {},
   "outputs": [],
   "source": []
  },
  {
   "cell_type": "markdown",
   "metadata": {},
   "source": [
    "### Problem 5(c)\n",
    "\n",
    "Draw three Koch curves of level 4 to make the outline of a snowflake. This can be done by generating Koch curves around each edge of an equilateral triangle."
   ]
  },
  {
   "cell_type": "code",
   "execution_count": null,
   "metadata": {},
   "outputs": [],
   "source": []
  },
  {
   "cell_type": "code",
   "execution_count": null,
   "metadata": {},
   "outputs": [],
   "source": []
  }
 ],
 "metadata": {
  "kernelspec": {
   "display_name": "Julia 1.6.3",
   "language": "julia",
   "name": "julia-1.6"
  },
  "language_info": {
   "file_extension": ".jl",
   "mimetype": "application/julia",
   "name": "julia",
   "version": "1.6.3"
  }
 },
 "nbformat": 4,
 "nbformat_minor": 2
}
