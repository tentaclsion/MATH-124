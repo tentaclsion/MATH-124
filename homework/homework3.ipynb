{
 "cells": [
  {
   "cell_type": "markdown",
   "metadata": {},
   "source": [
    "# Math 124 - Programming for Mathematical Applications\n",
    "UC Berkeley, Spring 2023\n",
    "\n",
    "## Homework 3\n",
    "Due Wednesday, February 8"
   ]
  },
  {
   "cell_type": "markdown",
   "metadata": {},
   "source": [
    "### Problem 1\n",
    "\n",
    "Define the matrix `A = [1:4  5:8  ones(Int64,4)]`.\n",
    "\n",
    "Predict the result of performing the following operations in Julia (before checking your answers by running them). Note that the lines are meant to be run one-by-one in the same workspace, so when you e.g. change an array this will affect the subsequent statements.\n",
    "\n",
    "a. `x = A[3,:]`\n",
    "\n",
    "\n",
    "b. `B = A[2:2,1:3]`\n",
    "\n",
    "\n",
    "c. `A[1,1] = 9 + A[2,3]`\n",
    "\n",
    "\n",
    "d. `A[1:3,2:3] = [0 0; 0 0; 0 0]`\n",
    "\n",
    "\n",
    "e. `A[1:2,2:3] = [1 3; 1 3]`\n",
    "\n",
    "\n",
    "f. `y = A[1:4, 3]`\n",
    "\n",
    "\n",
    "g. `A = [A [2 1 7; 7 4 5; ones(Int64,2,3)]]`\n",
    "\n",
    "\n",
    "h. `C = A[[1,3],2]`\n",
    "\n",
    "\n",
    "i. `D = A[[1,2,4],[1,3,4]]`"
   ]
  },
  {
   "cell_type": "code",
   "execution_count": 6,
   "metadata": {},
   "outputs": [
    {
     "data": {
      "text/plain": [
       "4×3 Matrix{Int64}:\n",
       " 1  5  1\n",
       " 2  6  1\n",
       " 3  7  1\n",
       " 4  8  1"
      ]
     },
     "execution_count": 6,
     "metadata": {},
     "output_type": "execute_result"
    }
   ],
   "source": [
    "A = [1:4  5:8  ones(Int64,4)]"
   ]
  },
  {
   "cell_type": "code",
   "execution_count": 4,
   "metadata": {},
   "outputs": [
    {
     "data": {
      "text/plain": [
       "3-element Vector{Int64}:\n",
       " 3\n",
       " 7\n",
       " 1"
      ]
     },
     "execution_count": 4,
     "metadata": {},
     "output_type": "execute_result"
    }
   ],
   "source": [
    "# Prediction: Will print out all the elements on the third row\n",
    "x = A[3,:]"
   ]
  },
  {
   "cell_type": "code",
   "execution_count": 5,
   "metadata": {},
   "outputs": [
    {
     "data": {
      "text/plain": [
       "1×3 Matrix{Int64}:\n",
       " 2  6  1"
      ]
     },
     "execution_count": 5,
     "metadata": {},
     "output_type": "execute_result"
    }
   ],
   "source": [
    "# Prediction: Will print out elements 1-3 from row two\n",
    "B = A[2:2,1:3]"
   ]
  },
  {
   "cell_type": "code",
   "execution_count": 7,
   "metadata": {},
   "outputs": [
    {
     "data": {
      "text/plain": [
       "10"
      ]
     },
     "execution_count": 7,
     "metadata": {},
     "output_type": "execute_result"
    }
   ],
   "source": [
    "# Prediction: Will change the value of element 1 in row 1 to 9 + the element 3 in row 2\n",
    "A[1,1] = 9 + A[2,3]"
   ]
  },
  {
   "cell_type": "code",
   "execution_count": 8,
   "metadata": {},
   "outputs": [
    {
     "data": {
      "text/plain": [
       "3×2 Matrix{Int64}:\n",
       " 0  0\n",
       " 0  0\n",
       " 0  0"
      ]
     },
     "execution_count": 8,
     "metadata": {},
     "output_type": "execute_result"
    }
   ],
   "source": [
    "# Prediction: Will change the matrix A to a matrix with two columns and three rows, with all the elements equal to 0\n",
    "A[1:3,2:3] = [0 0; 0 0; 0 0]"
   ]
  },
  {
   "cell_type": "code",
   "execution_count": 9,
   "metadata": {},
   "outputs": [
    {
     "data": {
      "text/plain": [
       "2×2 Matrix{Int64}:\n",
       " 1  3\n",
       " 1  3"
      ]
     },
     "execution_count": 9,
     "metadata": {},
     "output_type": "execute_result"
    }
   ],
   "source": [
    "# Prediction: Will change the matrix A to a matrix with two columns and two rows, with the first elements equal to \n",
    "# 1 and the second element equal to 2\n",
    "A[1:2,2:3] = [1 3; 1 3]"
   ]
  },
  {
   "cell_type": "code",
   "execution_count": null,
   "metadata": {},
   "outputs": [],
   "source": [
    "y = A[1:4, 3]"
   ]
  },
  {
   "cell_type": "code",
   "execution_count": null,
   "metadata": {},
   "outputs": [],
   "source": [
    "A = [A [2 1 7; 7 4 5; ones(Int64,2,3)]]"
   ]
  },
  {
   "cell_type": "code",
   "execution_count": null,
   "metadata": {},
   "outputs": [],
   "source": [
    "C = A[[1,3],2]"
   ]
  },
  {
   "cell_type": "code",
   "execution_count": null,
   "metadata": {},
   "outputs": [],
   "source": [
    "D = A[[1,2,4],[1,3,4]]"
   ]
  },
  {
   "cell_type": "code",
   "execution_count": null,
   "metadata": {},
   "outputs": [],
   "source": []
  },
  {
   "cell_type": "markdown",
   "metadata": {},
   "source": [
    "### Problem 2(a)\n",
    "\n",
    "- Create a vector $x$ of the numbers $1, 0.99, 0.98, 0.97, . . . 0.01, 0$ in this order\n",
    "- Using $x$, create a vector $y$ defined by the elementwise function $y_i = \\sin 2\\pi x_i$ for each element in $x$"
   ]
  },
  {
   "cell_type": "code",
   "execution_count": null,
   "metadata": {},
   "outputs": [],
   "source": []
  },
  {
   "cell_type": "markdown",
   "metadata": {},
   "source": [
    "### Problem 2(b)\n",
    "\n",
    "Given the vector $y$, create:\n",
    "  - A vector $v$ containing the first 25 elements of $y$\n",
    "  - A vector $w$ containing elements of $y$ with indices from 50 to 75\n",
    "  - A vector $z$ containing elements of $y$ with even indexes"
   ]
  },
  {
   "cell_type": "code",
   "execution_count": null,
   "metadata": {},
   "outputs": [],
   "source": []
  },
  {
   "cell_type": "markdown",
   "metadata": {},
   "source": [
    "### Problem 2(c)\n",
    "\n",
    "Given the vector $y$, create:\n",
    "  - A vector $v$ containing the same elements in the reverse order\n",
    "  - A vector $w$ containing elements of $y$ which are smaller than -0.2\n",
    "  - A vector $z$ of the *indices* in $y$ of elements greater than 0.5 (that is, the numbers $i$ for which $y_i>0.5$) "
   ]
  },
  {
   "cell_type": "code",
   "execution_count": null,
   "metadata": {},
   "outputs": [],
   "source": []
  },
  {
   "cell_type": "markdown",
   "metadata": {},
   "source": [
    "### Problem 3\n",
    "\n",
    "Given a matrix $A$, e.g. `A = [0 2 1; 3 1 0; 4 6 4; 2 0 2]`:\n",
    "\n",
    "### Problem 3(a)\n",
    "- Write code to create a matrix $B$ with 1’s at locations where $A$ has zeros and 0’s elsewhere"
   ]
  },
  {
   "cell_type": "code",
   "execution_count": null,
   "metadata": {},
   "outputs": [],
   "source": []
  },
  {
   "cell_type": "markdown",
   "metadata": {},
   "source": [
    "### Problem 3(b)\n",
    "\n",
    "\n",
    "- Write code to create a matrix $C$ containing all 0’s except the maximum elements in each row of a (i.e. using the example matrix $A$, $C$ would be `[0 2 0; 3 0 0; 0 6 0; 2 0 2]`)"
   ]
  },
  {
   "cell_type": "code",
   "execution_count": null,
   "metadata": {},
   "outputs": [],
   "source": []
  },
  {
   "cell_type": "markdown",
   "metadata": {},
   "source": [
    "### Problem 4\n",
    "\n",
    "Write a function `tridiag(a,b,c)` to create the following *tridiagonal* matrix:\n",
    "$$\n",
    "A = \n",
    "\\begin{bmatrix}\n",
    "   {b_1} & {c_1} & {   } & {   } & { 0 } \\\\\n",
    "   {a_1} & {b_2} & {c_2} & {   } & {   } \\\\\n",
    "   {   } & {a_2} & {b_3} & \\ddots & {   } \\\\\n",
    "   {   } & {   } & \\ddots & \\ddots & {c_{n-1}}\\\\\n",
    "   { 0 } & {   } & {   } & {a_{n-1}} & {b_n}\\\\\n",
    "\\end{bmatrix}\n",
    "$$\n",
    "for vectors `a` and `c` of length $n-1$ and vector `b` of length $n$.\n",
    "\n",
    "Test your function using e.g. `tridiag(1:4, 11:15, 21:24)`."
   ]
  },
  {
   "cell_type": "code",
   "execution_count": null,
   "metadata": {},
   "outputs": [],
   "source": []
  },
  {
   "cell_type": "markdown",
   "metadata": {},
   "source": [
    "### Problem 5\n",
    "\n",
    "Make a plot connecting the coordinates: $(1, 1)$, $(3, 1)$, $(2, 4)$, $(4, 2)$ and $(0,3)$ by a red line of linewidth 2. Use equal axis coordinates, and add grid lines."
   ]
  },
  {
   "cell_type": "code",
   "execution_count": null,
   "metadata": {},
   "outputs": [],
   "source": []
  },
  {
   "cell_type": "markdown",
   "metadata": {},
   "source": [
    "### Problem 6\n",
    "\n",
    "Plot the functions $f(x) = x$, $g(x) = 1/(1+x^3)$, $h(x) = e^{-x}$ and $z(x) = e^{-x^2}$ over the interval $x\\in [0, 3]$. Describe your plots by using the functions `xlabel`, `ylabel`, `title` and `legend`."
   ]
  },
  {
   "cell_type": "code",
   "execution_count": null,
   "metadata": {},
   "outputs": [],
   "source": []
  },
  {
   "cell_type": "markdown",
   "metadata": {},
   "source": [
    "### Problem 7\n",
    "\n",
    "(Project Euler, Problem 25)\n",
    "\n",
    "> The Fibonacci sequence is defined by the recurrence relation:\n",
    "> \n",
    "> Fn = Fn−1 + Fn−2, where F1 = 1 and F2 = 1.\n",
    ">\n",
    "> Hence the first 12 terms will be:\n",
    "> \n",
    "> F1 = 1\n",
    "> F2 = 1\n",
    "> F3 = 2\n",
    "> F4 = 3\n",
    "> F5 = 5\n",
    "> F6 = 8\n",
    "> F7 = 13\n",
    "> F8 = 21\n",
    "> F9 = 34\n",
    "> F10 = 55\n",
    "> F11 = 89\n",
    "> F12 = 144\n",
    ">\n",
    "> The 12th term, F12, is the first term to contain three digits.\n",
    "> \n",
    "> What is the index of the first term in the Fibonacci sequence to contain 1000 digits?\n",
    "\n",
    "To solve this problem, we need to compute with integers much larger than the built-in type `Int128`. While Julia has support for larger integers, here you will write your own implementation to solve this problem using arrays and basic arithmetics."
   ]
  },
  {
   "cell_type": "markdown",
   "metadata": {},
   "source": [
    "We will represent the large integers by an array of length $n$ with integers between $0\\ldots 9$. This is certainly not the most efficient way to solve this problem, but it works. More precisely, the value of a large integer represented by an array $X$ is\n",
    "$$\n",
    "\\sum_{k=1}^n X[k] \\cdot 10^{k-1}\n",
    "$$\n",
    "For example, with $n=5$ the array $X = [7,2,4,3,0]$ represents the integer $x=3427$.\n",
    "\n",
    "We can define a helper function to print integers represented like this:"
   ]
  },
  {
   "cell_type": "code",
   "execution_count": 1,
   "metadata": {},
   "outputs": [
    {
     "data": {
      "text/plain": [
       "print_bigint (generic function with 1 method)"
      ]
     },
     "execution_count": 1,
     "metadata": {},
     "output_type": "execute_result"
    }
   ],
   "source": [
    "function print_bigint(X)\n",
    "    for i = length(X):-1:1\n",
    "        print(X[i])\n",
    "    end\n",
    "    println()\n",
    "end"
   ]
  },
  {
   "cell_type": "markdown",
   "metadata": {},
   "source": [
    "### Problem 7(a)\n",
    "\n",
    "Write a function `int_to_bigint(x,n)` which converts a regular integer `x` (e.g. of type `Int64`) to an array of length `n` as described above. For example,\n",
    "```julia\n",
    "X = int_to_bigint(34278273,10);\n",
    "println(X)\n",
    "print_bigint(X)\n",
    "```\n",
    "should output\n",
    "```\n",
    "[3, 7, 2, 8, 7, 2, 4, 3, 0, 0]\n",
    "0034278273\n",
    "```"
   ]
  },
  {
   "cell_type": "code",
   "execution_count": null,
   "metadata": {},
   "outputs": [],
   "source": []
  },
  {
   "cell_type": "markdown",
   "metadata": {},
   "source": [
    "### Problem 7(b)\n",
    "\n",
    "To solve the original problem, we also need a function to add two large integers represented by arrays. Implement a function `add_bigints(X,Y)` which computes the sum of the two numbers, and returns it in a new array. Use the standard addition with carry algorithm, and if there is a carry beyond the $n$th digit your code should run `error(\"Overflow\")`.\n",
    "\n",
    "For example, the code\n",
    "```julia\n",
    "x = 637465\n",
    "y = 99827391\n",
    "z = x + y\n",
    "X = int_to_bigint(x,10)\n",
    "Y = int_to_bigint(y,10)\n",
    "Z = add_bigints(X,Y)\n",
    "print_bigint(Z)\n",
    "println(z)\n",
    "```\n",
    "should produce the output\n",
    "```\n",
    "0100464856\n",
    "100464856\n",
    "```\n",
    "but if you change x to `9999999999` it should stop with an error."
   ]
  },
  {
   "cell_type": "code",
   "execution_count": null,
   "metadata": {},
   "outputs": [],
   "source": []
  },
  {
   "cell_type": "markdown",
   "metadata": {},
   "source": [
    "### Problem 7(c)\n",
    "\n",
    "Finally we can solve the original Fibonacci problem. Write a function `big_fibonacci(n)` which finds the first term in the sequence to contain `n` digits, prints that number (using `print_bigint`) and returns the index.\n",
    "\n",
    "Try your function on the original problem, that is, run `big_fibonacci(1000)`."
   ]
  },
  {
   "cell_type": "code",
   "execution_count": null,
   "metadata": {},
   "outputs": [],
   "source": []
  },
  {
   "cell_type": "code",
   "execution_count": null,
   "metadata": {},
   "outputs": [],
   "source": []
  },
  {
   "cell_type": "code",
   "execution_count": null,
   "metadata": {},
   "outputs": [],
   "source": []
  }
 ],
 "metadata": {
  "kernelspec": {
   "display_name": "Julia 1.6.7",
   "language": "julia",
   "name": "julia-1.6"
  },
  "language_info": {
   "file_extension": ".jl",
   "mimetype": "application/julia",
   "name": "julia",
   "version": "1.6.3"
  }
 },
 "nbformat": 4,
 "nbformat_minor": 2
}
