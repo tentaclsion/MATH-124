{
 "cells": [
  {
   "cell_type": "markdown",
   "metadata": {},
   "source": [
    "# Math 124 - Programming for Mathematical Applications\n",
    "UC Berkeley, Spring 2023\n",
    "\n",
    "## Homework 6\n",
    "Due Wednesday, March 1"
   ]
  },
  {
   "cell_type": "code",
   "execution_count": 1,
   "metadata": {},
   "outputs": [],
   "source": [
    "using LinearAlgebra, PyPlot"
   ]
  },
  {
   "cell_type": "markdown",
   "metadata": {},
   "source": [
    "### Problem 1 - Hilbert matrices\n",
    "\n",
    "A *Hilbert matrix* $H$ of size $n$-by-$n$ has entries\n",
    "\n",
    "$$\n",
    "H_{ij} = \\frac{1}{i + j - 1}\n",
    "$$"
   ]
  },
  {
   "cell_type": "markdown",
   "metadata": {},
   "source": [
    "#### Problem 1(a)\n",
    "\n",
    "Create a 2D array with a Hilbert matrix $H$ of size $n=6$."
   ]
  },
  {
   "cell_type": "code",
   "execution_count": null,
   "metadata": {},
   "outputs": [],
   "source": []
  },
  {
   "cell_type": "markdown",
   "metadata": {},
   "source": [
    "#### Problem 1(b)\n",
    "\n",
    "Convert $H$ to Julia's `LinearAlgebra.Symmetric` matrix."
   ]
  },
  {
   "cell_type": "code",
   "execution_count": null,
   "metadata": {},
   "outputs": [],
   "source": []
  },
  {
   "cell_type": "markdown",
   "metadata": {},
   "source": [
    "#### Problem 1(c)\n",
    "\n",
    "Create the matrix $G = H^2$."
   ]
  },
  {
   "cell_type": "code",
   "execution_count": null,
   "metadata": {},
   "outputs": [],
   "source": []
  },
  {
   "cell_type": "markdown",
   "metadata": {},
   "source": [
    "#### Problem 1(d)\n",
    "\n",
    "Consider the linear system $G\\boldsymbol{x} = \\boldsymbol{b}$, where\n",
    "\n",
    "$$\n",
    "b_i = \\sum_{j=1}^n G_{ij}\n",
    "$$\n",
    "\n",
    "What is the exact solution $\\boldsymbol{x}$?"
   ]
  },
  {
   "cell_type": "markdown",
   "metadata": {},
   "source": []
  },
  {
   "cell_type": "markdown",
   "metadata": {},
   "source": [
    "#### Problem 1(e)\n",
    "\n",
    "Solve numerically for $\\boldsymbol{x}$."
   ]
  },
  {
   "cell_type": "code",
   "execution_count": null,
   "metadata": {},
   "outputs": [],
   "source": []
  },
  {
   "cell_type": "markdown",
   "metadata": {},
   "source": [
    "#### Problem 1(f)\n",
    "\n",
    "Compute $\\| \\boldsymbol{x} - \\boldsymbol{1} \\|_2$, where $\\boldsymbol{1}$ is a vector with all entries = 1."
   ]
  },
  {
   "cell_type": "code",
   "execution_count": null,
   "metadata": {},
   "outputs": [],
   "source": []
  },
  {
   "cell_type": "markdown",
   "metadata": {},
   "source": [
    "#### Problem 1(g)\n",
    "\n",
    "This is an example of a highly *ill-conditioned* matrix, which means operations such as solving linear systems can be very inaccurate. Compute the so-called *condition number* of $G$, defined by:\n",
    "\n",
    "$$\n",
    "\\kappa(G) = \\frac{\\lambda_\\mathrm{max}}{\\lambda_\\mathrm{min}}\n",
    "$$\n",
    "\n",
    "that is, the ratio of the largest and the smallest eigenvalues of $G$."
   ]
  },
  {
   "cell_type": "code",
   "execution_count": null,
   "metadata": {},
   "outputs": [],
   "source": []
  },
  {
   "cell_type": "markdown",
   "metadata": {},
   "source": [
    "### Problem 2 - The Strassen algorithm\n",
    "\n",
    "The Strassen algorithm is a method for matrix-matrix multiplication which performs asymptotically fewer operations than the standard method for large matrices (but it is still slower in practice for most matrices). Consider the matrix-matrix product $C=AB$, where $A,B,C$ are $n$-by-$n$ matrices and $n$ is a power of 2. Partition the matrices as\n",
    "\n",
    "$$\n",
    "A =\n",
    "\\begin{pmatrix}\n",
    "A_{11} & A_{12} \\\\\n",
    "A_{21} & A_{22}\n",
    "\\end{pmatrix}, \\quad\n",
    "B =\n",
    "\\begin{pmatrix}\n",
    "B_{11} & B_{12} \\\\\n",
    "B_{21} & B_{22}\n",
    "\\end{pmatrix}, \\quad\n",
    "C =\n",
    "\\begin{pmatrix}\n",
    "C_{11} & C_{12} \\\\\n",
    "C_{21} & C_{22}\n",
    "\\end{pmatrix}\n",
    "$$\n",
    "\n",
    "where all submatrices are of size $n/2$-by-$n/2$. Now evaluate the following 7 (smaller) matrix-matrix products recursively:\n",
    "\n",
    "$$\n",
    "\\begin{align*}\n",
    "M_1 &= (A_{11} + A_{22})(B_{11} + B_{22}) \\\\\n",
    "M_2 &= (A_{21} + A_{22})B_{11} \\\\\n",
    "M_3 &= A_{11}(B_{12} - B_{22}) \\\\\n",
    "M_4 &= A_{22}(B_{21} - B_{11}) \\\\\n",
    "M_5 &= (A_{11} + A_{12})B_{22} \\\\\n",
    "M_6 &= (A_{21} - A_{11})(B_{11} + B_{12}) \\\\\n",
    "M_7 &= (A_{12} - A_{22})(B_{21} + B_{22})\n",
    "\\end{align*}\n",
    "$$\n",
    "\n",
    "and finally form $C$ from the following submatrices:\n",
    "\n",
    "$$\n",
    "\\begin{align*}\n",
    "C_{11} &= M_1 + M_4 - M_5 + M_7 \\\\\n",
    "C_{12} &= M_3 + M_5 \\\\\n",
    "C_{21} &= M_2 + M_4 \\\\\n",
    "C_{22} &= M_1 - M_2 + M_3 + M_6\n",
    "\\end{align*}\n",
    "$$\n",
    "\n",
    "Implement this algorithm as a function `strassen(A,B)`, which assumes the size of `A` and `B` are powers of 2. The base case is when the matrix sizes are 1-by-1, and the multiplication is a scalar multiplication. Note: this means that your implementation cannot perform matrix multiplication at any point, only scalar multiplication."
   ]
  },
  {
   "cell_type": "code",
   "execution_count": null,
   "metadata": {},
   "outputs": [],
   "source": []
  },
  {
   "cell_type": "markdown",
   "metadata": {},
   "source": [
    "Test your function using the commands below."
   ]
  },
  {
   "cell_type": "code",
   "execution_count": null,
   "metadata": {},
   "outputs": [],
   "source": [
    "A = randn(256,256)\n",
    "B = randn(256,256)\n",
    "C = strassen(A,B)\n",
    "D = A * B\n",
    "maximum(abs.(C-D))     # Should be very small"
   ]
  },
  {
   "cell_type": "markdown",
   "metadata": {},
   "source": [
    "### Problem 3 - Polynomial data fitting\n",
    "\n",
    "Generalize the example on linear regression from the lecture notebook, to fit a polynomial of degree $p\\ge 1$ to the data (the linear regression example corresponds to $p=1$)."
   ]
  },
  {
   "cell_type": "markdown",
   "metadata": {},
   "source": [
    "#### Problem 3(a)\n",
    "\n",
    "Write a function with the syntax `pol = polyfit(x, y, p)` which computes a polynomial `pol` of degree `p` that is a least-squares fit of the data `x,y`."
   ]
  },
  {
   "cell_type": "code",
   "execution_count": null,
   "metadata": {},
   "outputs": [],
   "source": []
  },
  {
   "cell_type": "markdown",
   "metadata": {},
   "source": [
    "#### Problem 3(b)\n",
    "\n",
    "Write a function with the syntax `yy = polyval(pol, xx)` which evaluates the polynomial `pol` at all the $x$-values in `xx`."
   ]
  },
  {
   "cell_type": "code",
   "execution_count": null,
   "metadata": {},
   "outputs": [],
   "source": []
  },
  {
   "cell_type": "markdown",
   "metadata": {},
   "source": [
    "#### Problem 3(c)\n",
    "\n",
    "Demonstrate your functions by fitting a cubic polynomial to the following data, and plotting in the same way as in the lecture notebook:"
   ]
  },
  {
   "cell_type": "code",
   "execution_count": null,
   "metadata": {},
   "outputs": [],
   "source": [
    "x = 0:0.1:10\n",
    "noise = 2randn(size(x))\n",
    "y = @. 0.1x^3 - x^2 + 2x - 2 + noise; # Example data: cubic with noise"
   ]
  },
  {
   "cell_type": "code",
   "execution_count": null,
   "metadata": {},
   "outputs": [],
   "source": []
  },
  {
   "cell_type": "markdown",
   "metadata": {},
   "source": [
    "### Problem 4 - Strings and File Processing\n",
    "\n",
    "From Think Julia:\n",
    "\n",
    "> Give me a word with three consecutive double letters. I’ll give you a couple of words that\n",
    "> almost qualify, but don’t. For example, the word committee, c-o-m-m-i-t-t-e-e. It would be\n",
    "> great except for the i that sneaks in there. Or Mississippi: M-i-s-s-i-s-s-i-p-p-i. If you\n",
    "> could take out those i’s it would work. But there is a word that has three consecutive pairs\n",
    "> of letters and to the best of my knowledge this may be the only word. Of course there are\n",
    "> probably 500 more but I can only think of one. What is the word?\n",
    "\n",
    "Write a program to find these words. First download the file <https://github.com/BenLauwens/ThinkJulia.jl/blob/master/data/words.txt> to your computer, and upload it to the datahub in the same directory that you keep your notebook. Then read each line of the file, and if the you find the pattern described above, print the word."
   ]
  },
  {
   "cell_type": "code",
   "execution_count": null,
   "metadata": {},
   "outputs": [],
   "source": []
  },
  {
   "cell_type": "code",
   "execution_count": null,
   "metadata": {},
   "outputs": [],
   "source": []
  }
 ],
 "metadata": {
  "kernelspec": {
   "display_name": "Julia 1.6.3",
   "language": "julia",
   "name": "julia-1.6"
  },
  "language_info": {
   "file_extension": ".jl",
   "mimetype": "application/julia",
   "name": "julia",
   "version": "1.6.3"
  }
 },
 "nbformat": 4,
 "nbformat_minor": 2
}
