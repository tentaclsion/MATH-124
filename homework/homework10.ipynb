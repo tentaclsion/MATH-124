{
 "cells": [
  {
   "cell_type": "markdown",
   "metadata": {},
   "source": [
    "# Math 124 - Programming for Mathematical Applications\n",
    "UC Berkeley, Spring 2023\n",
    "\n",
    "## Homework 10\n",
    "Due Wednesday, April 12"
   ]
  },
  {
   "cell_type": "code",
   "execution_count": 1,
   "metadata": {},
   "outputs": [],
   "source": [
    "using PyPlot   # Packages needed"
   ]
  },
  {
   "cell_type": "markdown",
   "metadata": {},
   "source": [
    "### Description\n",
    "\n",
    "In this homework, you will make some extensions to the `MyPoly` type in the lecture notes.\n",
    "\n",
    "Remember to write your functions in the style of generic programming, as discussed in the\n",
    "lecture notes. That is, they should correctly handle all types of coefficient vectors,\n",
    "including rational and complex numbers. This is almost automatic, but sometimes the\n",
    "function `eltype` is useful to ensure the right type.\n",
    "\n",
    "First, we define the relevant functions below, with some simplifications (in particular\n",
    "we remove the `var` field and assume that the independent variable is $x$)."
   ]
  },
  {
   "cell_type": "code",
   "execution_count": 2,
   "metadata": {},
   "outputs": [],
   "source": [
    "struct MyPoly\n",
    "    c\n",
    "end\n",
    "\n",
    "function degree(p::MyPoly)\n",
    "    ix1 = findfirst(p.c .!= 0)\n",
    "    if ix1 == nothing\n",
    "        return 0\n",
    "    else\n",
    "        return length(p.c) - ix1\n",
    "    end\n",
    "end\n",
    "\n",
    "function Base.show(io::IO, p::MyPoly)\n",
    "    d = degree(p)\n",
    "    print(io, \"MyPoly(\")\n",
    "    for k = d:-1:0\n",
    "        coeff = p.c[end-k]\n",
    "        if coeff == 0 && d > 0\n",
    "            continue\n",
    "        end\n",
    "        if k < d\n",
    "            if isa(coeff, Real)\n",
    "                if coeff > 0\n",
    "                    print(io, \" + \")\n",
    "                else\n",
    "                    print(io, \" - \")\n",
    "                end\n",
    "                coeff = abs(coeff)\n",
    "            else\n",
    "                print(io, \" + \")\n",
    "            end\n",
    "        end\n",
    "        if isa(coeff, Real)\n",
    "            print(io, coeff)\n",
    "        else\n",
    "            print(io, \"($coeff)\")\n",
    "        end\n",
    "        if k == 0\n",
    "            continue\n",
    "        end\n",
    "        print(io, \"⋅x\")\n",
    "        if k > 1\n",
    "            print(io, \"^\", k)\n",
    "        end\n",
    "    end\n",
    "    print(io, \")\")\n",
    "end\n",
    "\n",
    "function (p::MyPoly)(x)\n",
    "    d = degree(p)\n",
    "    v = p.c[end-d]\n",
    "    for cc = p.c[end-d+1:end]\n",
    "        v = v*x + cc\n",
    "    end\n",
    "    return v\n",
    "end\n",
    "\n",
    "function PyPlot.plot(p::MyPoly, xlim=[-2,2])\n",
    "    xx = collect(range(xlim[1], xlim[2], length=100))\n",
    "    plot(xx, p.(xx))\n",
    "    xlabel(\"x\")\n",
    "end\n",
    "\n",
    "function Base.:+(p1::MyPoly, p2::MyPoly)\n",
    "    d1 = length(p1.c)\n",
    "    d2 = length(p2.c)\n",
    "    d = max(d1,d2)\n",
    "    c = [fill(0, d-d1); p1.c] + [fill(0, d-d2); p2.c]\n",
    "    return MyPoly(c)\n",
    "end\n",
    "\n",
    "function Base.:-(p1::MyPoly, p2::MyPoly)\n",
    "    return p1 + MyPoly(-p2.c)\n",
    "end\n",
    "\n",
    "function Base.:*(a, p::MyPoly)\n",
    "    newp = deepcopy(p)\n",
    "    newp.c .*= a\n",
    "    return newp\n",
    "end\n",
    "\n",
    "function Base.:*(p::MyPoly, a)\n",
    "    return a*p\n",
    "end"
   ]
  },
  {
   "cell_type": "markdown",
   "metadata": {},
   "source": [
    "### Problem 1(a)\n",
    "\n",
    "Implement multiplication of two polynomials by overloading the `*` operator.\n",
    "\n",
    "Test your function using the code below."
   ]
  },
  {
   "cell_type": "code",
   "execution_count": 41,
   "metadata": {},
   "outputs": [],
   "source": [
    "function Base.:*(p1::MyPoly, p2::MyPoly)\n",
    "    d1 = degree(p1)\n",
    "    d2 = degree(p2)\n",
    "    maxd = d1 + d2\n",
    "    c = fill(eltype(p1.c)(0), (maxd) + 1)\n",
    "    for i = 1:length(p1.c)\n",
    "        currd1 = d1 - (i - 1) \n",
    "        for j = 1:length(p2.c)\n",
    "            currd2 = d2 - (j - 1)\n",
    "            c[(maxd - (currd1 + currd2)) + 1] += p1.c[i] * p2.c[j]\n",
    "        end\n",
    "    end\n",
    "    return MyPoly(c)\n",
    "end"
   ]
  },
  {
   "cell_type": "code",
   "execution_count": 4,
   "metadata": {},
   "outputs": [
    {
     "data": {
      "text/plain": [
       "MyPoly(4⋅x^4 - 5⋅x^3 - 5⋅x^2 - 1⋅x - 2)"
      ]
     },
     "metadata": {},
     "output_type": "display_data"
    },
    {
     "data": {
      "text/plain": [
       "MyPoly(-1//3⋅x^3 + 55//126⋅x^2 - 13//42⋅x + 3//28)"
      ]
     },
     "metadata": {},
     "output_type": "display_data"
    }
   ],
   "source": [
    "p1 = MyPoly([1,-2])\n",
    "p2 = MyPoly([4,3,1,1])\n",
    "display(p1 * p2)  # Should have integer coefficients\n",
    "\n",
    "p1 = MyPoly([2//3, -3//7])\n",
    "p2 = MyPoly([-1//2, 1//3, -1//4])\n",
    "display(p1 * p2)  # Should have rational coefficients"
   ]
  },
  {
   "cell_type": "markdown",
   "metadata": {},
   "source": [
    "### Problem 1(b)\n",
    "\n",
    "Implement a new constructor for the `MyPoly` type, which\n",
    "creates a polynomial from a given vector of roots (and with leading term 1).\n",
    "That is, for a vector $r$ with $d$ roots, we define the degree $d$ polynomial\n",
    "\n",
    "$$\n",
    "p(x) = \\prod_{k=1}^d (x - r_k)\n",
    "$$\n",
    "\n",
    "To make sure we can still use the old syntax of initializing by the coefficients `c`,\n",
    "overload `MyPoly` with a parameter named `roots`:\n",
    "\n",
    "```julia\n",
    "function MyPoly(; roots)\n",
    "    # Implement function here\n",
    "end\n",
    "```\n",
    "\n",
    "Test your function using the code below."
   ]
  },
  {
   "cell_type": "code",
   "execution_count": 5,
   "metadata": {},
   "outputs": [
    {
     "data": {
      "text/plain": [
       "MyPoly"
      ]
     },
     "execution_count": 5,
     "metadata": {},
     "output_type": "execute_result"
    }
   ],
   "source": [
    "function MyPoly(; roots)\n",
    "    rootp = [MyPoly([1, -i]) for i in roots]\n",
    "    currp = rootp[1]\n",
    "    for i = 2:length(rootp)\n",
    "        currp *= rootp[i]\n",
    "    end\n",
    "    return currp\n",
    "end"
   ]
  },
  {
   "cell_type": "code",
   "execution_count": 6,
   "metadata": {},
   "outputs": [
    {
     "data": {
      "text/plain": [
       "MyPoly(1⋅x^6 - 1⋅x^5 - 15⋅x^4 + 5⋅x^3 + 34⋅x^2 - 24⋅x)"
      ]
     },
     "metadata": {},
     "output_type": "display_data"
    },
    {
     "data": {
      "text/plain": [
       "MyPoly(1//1⋅x^6 + 11//6⋅x^5 - 53//12⋅x^4 - 107//24⋅x^3 + 157//24⋅x^2 - 7//4⋅x)"
      ]
     },
     "metadata": {},
     "output_type": "display_data"
    }
   ],
   "source": [
    "p = MyPoly(roots=[-3,-2,0,1,1,4])\n",
    "display(p)  # Should have integer coefficients\n",
    "\n",
    "p = MyPoly(roots=[-7//3,-2//1,0,1//2,1//2,3//2])\n",
    "display(p)  # Should have rational coefficients"
   ]
  },
  {
   "cell_type": "markdown",
   "metadata": {},
   "source": [
    "### Problem 1(c)\n",
    "\n",
    "Implement a function `differentiate` which returns the derivative of a polynomial.\n",
    "\n",
    "Test your function using the code below."
   ]
  },
  {
   "cell_type": "code",
   "execution_count": 7,
   "metadata": {},
   "outputs": [
    {
     "data": {
      "text/plain": [
       "differentiate (generic function with 1 method)"
      ]
     },
     "execution_count": 7,
     "metadata": {},
     "output_type": "execute_result"
    }
   ],
   "source": [
    "function differentiate(p::MyPoly)\n",
    "    d = degree(p)\n",
    "    rep = MyPoly(fill(eltype(p.c)(0), d))\n",
    "    for i = 1:(length(p.c)-1)\n",
    "        currd = d - (i - 1) \n",
    "        rep.c[(d - currd) + 1] = p.c[i] * currd\n",
    "    end\n",
    "    return rep\n",
    "end"
   ]
  },
  {
   "cell_type": "code",
   "execution_count": 8,
   "metadata": {},
   "outputs": [
    {
     "data": {
      "text/plain": [
       "MyPoly(6//1⋅x^5 + 55//6⋅x^4 - 53//3⋅x^3 - 107//8⋅x^2 + 157//12⋅x - 7//4)"
      ]
     },
     "execution_count": 8,
     "metadata": {},
     "output_type": "execute_result"
    }
   ],
   "source": [
    "differentiate(p)"
   ]
  },
  {
   "cell_type": "markdown",
   "metadata": {},
   "source": [
    "### Problem 1(d)\n",
    "\n",
    "Implement a function `integrate` which returns the (indefinite) integral of a polynomial, with\n",
    "the constant term = 0.\n",
    "\n",
    "Test your function using the code below."
   ]
  },
  {
   "cell_type": "code",
   "execution_count": 9,
   "metadata": {},
   "outputs": [
    {
     "data": {
      "text/plain": [
       "integrate (generic function with 1 method)"
      ]
     },
     "execution_count": 9,
     "metadata": {},
     "output_type": "execute_result"
    }
   ],
   "source": [
    "function integrate(p::MyPoly)\n",
    "    d = degree(p)\n",
    "    rep = MyPoly(fill(0//1, d + 2))\n",
    "    for i = 1:length(p.c)\n",
    "        currd = d - (i - 1) \n",
    "        rep.c[(d - currd) + 1] = p.c[i] // (currd + 1)\n",
    "    end\n",
    "    return rep\n",
    "end"
   ]
  },
  {
   "cell_type": "code",
   "execution_count": 10,
   "metadata": {},
   "outputs": [
    {
     "data": {
      "text/plain": [
       "MyPoly(1⋅x^6 - 1⋅x^5 - 15⋅x^4 + 5⋅x^3 + 34⋅x^2 - 24⋅x)"
      ]
     },
     "metadata": {},
     "output_type": "display_data"
    },
    {
     "data": {
      "text/plain": [
       "MyPoly(1//7⋅x^7 - 1//6⋅x^6 - 3//1⋅x^5 + 5//4⋅x^4 + 34//3⋅x^3 - 12//1⋅x^2)"
      ]
     },
     "execution_count": 10,
     "metadata": {},
     "output_type": "execute_result"
    }
   ],
   "source": [
    "p = MyPoly(roots=[-3,-2,0,1,1,4])\n",
    "display(p)\n",
    "integrate(p)"
   ]
  },
  {
   "cell_type": "markdown",
   "metadata": {},
   "source": [
    "### Problem 2\n",
    "\n",
    "In this problem you will use the polynomial type to compute Lagrange polynomials\n",
    "for a set of nodes, and compute so-called elemental matrices that appear in the finite\n",
    "element discretization of PDEs."
   ]
  },
  {
   "cell_type": "markdown",
   "metadata": {},
   "source": [
    "#### Problem 2(a)\n",
    "\n",
    "Implement a function `LagrangePolynomials(s)` where `s` is a vector of $n$ numbers,\n",
    "which returns a vector of $n$ polynomials $L_k(x)$, $k=1,\\ldots,n$, of degree $d=n-1$\n",
    "such that\n",
    "\n",
    "$$\n",
    "L_k(s_j) = \\delta_{kj} =\n",
    "\\begin{cases}\n",
    "1 & \\text{if }k=j,  \\\\\n",
    "0 & \\text{otherwise.}\n",
    "\\end{cases}\n",
    "$$\n",
    "\n",
    "Hint: Note that a polynomial $L_k(x)$ is zero at the $n-1$ points $s_j$, $j\\ne k$.\n",
    "Use the `roots` constructor of `MyPoly` to create a polynomial with these roots,\n",
    "then evaluate it and scale to make $L_k(s_k)=1$.\n",
    "\n",
    "Test your function using the code below."
   ]
  },
  {
   "cell_type": "code",
   "execution_count": 39,
   "metadata": {},
   "outputs": [
    {
     "data": {
      "text/plain": [
       "LagrangePolynomials (generic function with 1 method)"
      ]
     },
     "execution_count": 39,
     "metadata": {},
     "output_type": "execute_result"
    }
   ],
   "source": [
    "function LagrangePolynomials(s)\n",
    "    n = length(s)\n",
    "    d = n - 1\n",
    "    L = Vector{MyPoly}(undef, n)\n",
    "    for k in 1:n\n",
    "        f(x) = x^(k-1)\n",
    "        l_kj = []\n",
    "        for j in 1:n\n",
    "            x_j = s[j]\n",
    "            currp = MyPoly([s[i] for i = 1:n if i != j])\n",
    "            currp *= \n",
    "            push!(l_kj, currp)\n",
    "        end\n",
    "        l_k = l_kj[1]\n",
    "        for i in 2:length(l_kj)\n",
    "            l_k += l_kj[i]\n",
    "        end\n",
    "        L[k] = l_k\n",
    "    end\n",
    "    return L\n",
    "end"
   ]
  },
  {
   "cell_type": "code",
   "execution_count": 40,
   "metadata": {},
   "outputs": [
    {
     "data": {
      "image/png": "[encoded data removed]",
      "text/plain": [
       "Figure(PyObject <Figure size 640x480 with 1 Axes>)"
      ]
     },
     "metadata": {},
     "output_type": "display_data"
    }
   ],
   "source": [
    "Ls = LagrangePolynomials((0:6) / 6)\n",
    "plot.(Ls, Ref([0,1]));"
   ]
  },
  {
   "cell_type": "markdown",
   "metadata": {},
   "source": [
    "### Problem 2(b)\n",
    "\n",
    "In the finite element method (FEM), so-called mass matrices $M$ and stiffness matrices $K$\n",
    "are defined as follows:\n",
    "\n",
    "$$\n",
    "\\begin{align*}\n",
    "M_{ij} &= \\int_0^1 L_i(x) L_j(x)\\,dx,\\qquad i,j=1,\\ldots,n \\\\\n",
    "K_{ij} &= \\int_0^1 \\frac{dL_i}{dx} \\frac{dL_j}{dx}\\,dx,\\qquad i,j=1,\\ldots,n\n",
    "\\end{align*}\n",
    "$$\n",
    "\n",
    "Write two functions `mkM(Ls)` and `mkK(Ls)` which computes and returns these matrices,\n",
    "for a given vector `Ls` of Lagrange polynomials.\n",
    "\n",
    "Test your function using the code below. Note that in this case, the `s` vector is *rational*\n",
    "and all your outputs should also be rational."
   ]
  },
  {
   "cell_type": "code",
   "execution_count": 46,
   "metadata": {},
   "outputs": [
    {
     "data": {
      "text/plain": [
       "mkK (generic function with 1 method)"
      ]
     },
     "execution_count": 46,
     "metadata": {},
     "output_type": "execute_result"
    }
   ],
   "source": [
    "function mkM(Ls)\n",
    "    M = Number.(zeros(length(Ls), length(Ls)))\n",
    "    for i = 1:length(Ls)\n",
    "        for j = 1:length(Ls)\n",
    "            l = integrate(Ls[i] * Ls[j])\n",
    "            M[i][j] = Number(l(1) - l(0))\n",
    "        end\n",
    "    end\n",
    "    return M\n",
    "end\n",
    "\n",
    "function mkK(Ls)\n",
    "    M = Number.(zeros(length(Ls), length(Ls)))\n",
    "    for i = 1:length(Ls)\n",
    "        for j = 1:length(Ls)\n",
    "            dli = differentiate(Ls[i])\n",
    "            dlj = differentiate(Ls[j])\n",
    "            l = integrate(dli * dlj)\n",
    "            M[i][j] = Number(l(1) - l(0))\n",
    "        end\n",
    "    end\n",
    "    return M\n",
    "end"
   ]
  },
  {
   "cell_type": "code",
   "execution_count": 47,
   "metadata": {},
   "outputs": [
    {
     "ename": "LoadError",
     "evalue": "MethodError: no method matching setindex!(::Float64, ::Rational{Int64}, ::Int64)",
     "output_type": "error",
     "traceback": [
      "MethodError: no method matching setindex!(::Float64, ::Rational{Int64}, ::Int64)",
      "",
      "Stacktrace:",
      " [1] mkM(Ls::Vector{MyPoly})",
      "   @ Main ./In[46]:6",
      " [2] top-level scope",
      "   @ In[47]:3",
      " [3] eval",
      "   @ ./boot.jl:360 [inlined]",
      " [4] include_string(mapexpr::typeof(REPL.softscope), mod::Module, code::String, filename::String)",
      "   @ Base ./loading.jl:1116"
     ]
    }
   ],
   "source": [
    "d = 4\n",
    "Ls = LagrangePolynomials((0:d) // d)\n",
    "M = mkM(Ls)\n",
    "K = mkK(Ls)\n",
    "display(Ls)\n",
    "display(M)\n",
    "display(K)"
   ]
  },
  {
   "cell_type": "code",
   "execution_count": null,
   "metadata": {},
   "outputs": [],
   "source": []
  }
 ],
 "metadata": {
  "kernelspec": {
   "display_name": "Julia 1.6.3",
   "language": "julia",
   "name": "julia-1.6"
  },
  "language_info": {
   "file_extension": ".jl",
   "mimetype": "application/julia",
   "name": "julia",
   "version": "1.6.3"
  }
 },
 "nbformat": 4,
 "nbformat_minor": 2
}
