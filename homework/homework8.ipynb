{
 "cells": [
  {
   "cell_type": "markdown",
   "metadata": {},
   "source": [
    "# Math 124 - Programming for Mathematical Applications\n",
    "UC Berkeley, Spring 2023\n",
    "\n",
    "## Homework 8\n",
    "Due Wednesday, March 22"
   ]
  },
  {
   "cell_type": "code",
   "execution_count": 30,
   "metadata": {},
   "outputs": [],
   "source": [
    "using LinearAlgebra, PyPlot   # Packages needed"
   ]
  },
  {
   "cell_type": "markdown",
   "metadata": {},
   "source": [
    "### Problem 1 - Cubic splines\n",
    "\n",
    "Consider the interpolation of $n+1$ data points $(x_i,y_i)$, $i=0,\\ldots,n$. A *cubic spline function* $S(x)$ is a piecewise cubic polynomial, that is, if $x_j\\le x\\le x_{j+1}$ then $S(x) = S_j(x)$ where\n",
    "\n",
    "$$\n",
    "\\begin{align*}\n",
    "S_j(x) = y_j + b_j(x-x_j)+c_j(x-x_j)^2+d_j(x-x_j)^3\n",
    "\\end{align*}\n",
    "$$\n",
    "\n",
    "The coefficients $b_j,c_j,d_j$, $j=0,\\ldots,n-1$, are chosen such that the function is smooth and interpolates the given data."
   ]
  },
  {
   "cell_type": "markdown",
   "metadata": {},
   "source": [
    "#### Problem 1(a)\n",
    "\n",
    "Write a function with the syntax `b,c,d = cubic_spline(x,y)`, which takes input data as vectors $\\boldsymbol{x},\\boldsymbol{y}$ and solves for the coefficient vectors $\\boldsymbol{b},\\boldsymbol{c},\\boldsymbol{d}$ as described below. Create the matrix as a \n",
    "`Tridiagonal` matrix type in Julia, with the command `Tridiagonal(dl, d, du)` for lower-diagonal\n",
    "`dl`, diagonal `d`, and upper-diagonal `du`.\n",
    "\n",
    "Set $h_j=x_{j+1}-x_j$, $j=0,\\ldots,n-1$, and solve the following linear system $A\\boldsymbol{c}=\\boldsymbol{f}$:\n",
    "\n",
    "$$\n",
    "\\begin{align*}\n",
    "A &=\n",
    "\\begin{pmatrix}\n",
    "1 & 0 \\\\\n",
    "h_0 & 2(h_0+h_1) & h_1 \\\\\n",
    "    & \\ddots & \\ddots & \\ddots \\\\\n",
    "    &  & h_{n-2} & 2(h_{n-2}+h_{n-1}) & h_{n-1} \\\\\n",
    "    &  &         & 0 & 1\n",
    "\\end{pmatrix} \\\\\n",
    "\\boldsymbol{f}&=(0,3(y_2-y_1)/h_1-3(y_1-y_0)/h_0,\\ldots, \\\\\n",
    "      &\\ \\ \\ \\ \\ \\ \\ \\ \\ 3(y_n-y_{n-1})/h_{n-1}-3(y_{n-1}-y_{n-2})/h_{n-2},0)^T \\\\\n",
    "\\boldsymbol{c}&=(c_0,\\ldots,c_n)^T\n",
    "\\end{align*}\n",
    "$$\n",
    "\n",
    "Here, $A \\in \\mathbb{R}^{(n+1) \\times (n+1)}, f \\in \\mathbb{R}^{n+1}, c \\in \\mathbb{R}^{n+1}$,\n",
    "which means `d` has size `n+1`, `dl` has size `n`, and `du` has size `n`.\n",
    "\n",
    "Finally, compute the vectors $\\boldsymbol{b},\\boldsymbol{d}$ as\n",
    "\n",
    "$$\n",
    "\\begin{align*}\n",
    "b_j &= (y_{j+1}-y_j)/h_j-h_j(2c_j+c_{j+1})/3 \\\\\n",
    "d_j &= (c_{j+1}-c_j)/(3h_j)\n",
    "\\end{align*}\n",
    "$$\n",
    "\n",
    "where $j=0,\\ldots,n-1$."
   ]
  },
  {
   "cell_type": "code",
   "execution_count": 141,
   "metadata": {},
   "outputs": [
    {
     "data": {
      "text/plain": [
       "cubic_spline (generic function with 1 method)"
      ]
     },
     "execution_count": 141,
     "metadata": {},
     "output_type": "execute_result"
    }
   ],
   "source": [
    "function cubic_spline(x, y)\n",
    "    n = length(x)\n",
    "    h = diff(x)\n",
    "    delta = zeros(n-1)\n",
    "    for i in 1:n-1\n",
    "        delta[i] = (y[i+1] - y[i])/h[i]\n",
    "    end\n",
    "    d = zeros(n)\n",
    "    for i in 1:n-2\n",
    "        d[i+1] = 2 * (h[i] + h[i+1])\n",
    "    end\n",
    "    lower = Float64.(h[1:end-1])\n",
    "    diag = zeros(Float64, n)\n",
    "    diag[1] = 1\n",
    "    for i in 2:n-1\n",
    "        diag[i] = 2 * (h[i-1] + h[i])\n",
    "    end\n",
    "    upper = Float64.(h[2:end])\n",
    "    c = Tridiagonal(lower[1:end-1], diag[2:end-1], upper[1:end-1]) \\ (3 .* delta)\n",
    "    b = delta .* h .- h .* (2 .* c[1:end-1] .+ c[2:end]) ./ 3\n",
    "    d[2:end-1] = (c[2:end] .- c[1:end-1]) ./ (3 .* h)\n",
    "    return b, c, d\n",
    "end"
   ]
  },
  {
   "cell_type": "markdown",
   "metadata": {},
   "source": [
    "#### Problem 1(b)\n",
    "\n",
    "Write a function with the syntax `yy = spline_eval(x, y, b, c, d, xx)` which evaluates the spline defined by the data `x,y` and the computed coefficient vectors `b,c,d` at all the $x$-coordinates in `xx`."
   ]
  },
  {
   "cell_type": "code",
   "execution_count": 32,
   "metadata": {},
   "outputs": [
    {
     "data": {
      "text/plain": [
       "spline_eval (generic function with 1 method)"
      ]
     },
     "execution_count": 32,
     "metadata": {},
     "output_type": "execute_result"
    }
   ],
   "source": [
    "function spline_eval(x, y, b, c, d, xx)\n",
    "    n = length(x)\n",
    "    yy = zeros(size(xx, 1))\n",
    "    for i in 1:length(xx)\n",
    "        j = 1\n",
    "        while j < n && x[j+1] <= xx[i]\n",
    "            j += 1\n",
    "        end\n",
    "        delt = xx[i] - x[j]\n",
    "        yy[i] = y[j] + b[j]*delt + c[j]*delt^2 + d[j]*delt^3\n",
    "    end\n",
    "    return yy\n",
    "end"
   ]
  },
  {
   "cell_type": "markdown",
   "metadata": {},
   "source": [
    "#### Problem 1(c)\n",
    "\n",
    "Test your function by computing the spline interpolant of the function\n",
    "\n",
    "$$\n",
    "f(x) = e^{-x/2}\\sin 2x\n",
    "$$\n",
    "\n",
    "at the interpolation points $(x_i, f(x_i))$, $i=0,\\ldots,10$.\n",
    "\n",
    "Plot the original function and the spline interpolant on the interval $0\\le x \\le 10$.\n",
    "Also plot markers at the interpolation points."
   ]
  },
  {
   "cell_type": "code",
   "execution_count": 140,
   "metadata": {},
   "outputs": [
    {
     "ename": "LoadError",
     "evalue": "DimensionMismatch(\"tried to assign 9 elements to 8 destinations\")",
     "output_type": "error",
     "traceback": [
      "DimensionMismatch(\"tried to assign 9 elements to 8 destinations\")",
      "",
      "Stacktrace:",
      " [1] throw_setindex_mismatch(X::Vector{Float64}, I::Tuple{Int64})",
      "   @ Base ./indices.jl:191",
      " [2] setindex_shape_check",
      "   @ ./indices.jl:245 [inlined]",
      " [3] setindex!",
      "   @ ./array.jl:868 [inlined]",
      " [4] cubic_spline(x::StepRangeLen{Float64, Base.TwicePrecision{Float64}, Base.TwicePrecision{Float64}}, y::Vector{Float64})",
      "   @ Main ./In[139]:21",
      " [5] top-level scope",
      "   @ In[140]:7",
      " [6] eval",
      "   @ ./boot.jl:360 [inlined]",
      " [7] include_string(mapexpr::typeof(REPL.softscope), mod::Module, code::String, filename::String)",
      "   @ Base ./loading.jl:1116"
     ]
    }
   ],
   "source": [
    "using Plots\n",
    "\n",
    "x = range(0,stop=10, length=10)\n",
    "f(x) = exp(-x/2) * sin(2x)\n",
    "y = f.(x)\n",
    "\n",
    "b, c, d = cubic_spline(x, y)\n",
    "xx = range(0, stop=10, length=100)\n",
    "yy = spline_eval(x, y, b, c, d, xx)\n",
    "\n",
    "plot(xx, f.(xx), label=\"Original function\")\n",
    "scatter!(x, y, label=\"Interpolation points\")\n",
    "plot!(xx, yy, label=\"Spline interpolant\")"
   ]
  },
  {
   "cell_type": "markdown",
   "metadata": {},
   "source": [
    "### Problem 2 - Parametric Spline Curves\n",
    "\n",
    "To interpolate a set of data points using a *parametric spline curve*, we compute two piecewise cubic\n",
    "polynomials $x(t)$ and $y(t)$, where $t$ is a parameter along the curve. For simplicity, we will\n",
    "let $t_i = i$ for the $n+1$ data points $(x_i,y_i)$, $i=0,\\ldots,n$, interpolated such that $x(t_i)=x_i$, $y(t_i)=y_i$."
   ]
  },
  {
   "cell_type": "markdown",
   "metadata": {},
   "source": [
    "#### Problem 2(a) - Plotting a parametric spline curve\n",
    "\n",
    "Write a function with the syntax\n",
    "```julia\n",
    "function plot_parametric_spline(x,y; r=10)\n",
    "```\n",
    "which computes and plots a parametric spline for the points in the vectors `x,y`.\n",
    "\n",
    "For the plotting, draw straight lines between the spline points $x(t),y(t)$ for $3r+1$ equally spaced values of $t$ between $0$ and $n$.\n",
    "\n",
    "Draw the splines in blue, with a line-width of 0.5. Also set `axis` to `equal`."
   ]
  },
  {
   "cell_type": "code",
   "execution_count": null,
   "metadata": {},
   "outputs": [],
   "source": []
  },
  {
   "cell_type": "markdown",
   "metadata": {},
   "source": [
    "Test the function using the code below."
   ]
  },
  {
   "cell_type": "code",
   "execution_count": 5,
   "metadata": {},
   "outputs": [
    {
     "ename": "LoadError",
     "evalue": "UndefVarError: plot_parametric_spline not defined",
     "output_type": "error",
     "traceback": [
      "UndefVarError: plot_parametric_spline not defined",
      "",
      "Stacktrace:",
      " [1] top-level scope",
      "   @ In[5]:2",
      " [2] eval",
      "   @ ./boot.jl:360 [inlined]",
      " [3] include_string(mapexpr::typeof(REPL.softscope), mod::Module, code::String, filename::String)",
      "   @ Base ./loading.jl:1116"
     ]
    }
   ],
   "source": [
    "xy = [0 0; 1 0; 1 1; 2 1; 2 0; 1 -1]\n",
    "plot_parametric_spline(xy[:,1], xy[:,2])\n",
    "plot(xy[:,1], xy[:,2], \"ko\");"
   ]
  },
  {
   "cell_type": "markdown",
   "metadata": {},
   "source": [
    "#### Problem 2(b) - Reading spline curves from a file\n",
    "\n",
    "Download the file [`bmw.dat`](https://raw.githubusercontent.com/popersson/math124files/main/homework/bmw.dat), and upload it to the same directory as your Julia notebook.\n",
    "\n",
    "The file contains the coordinates for a number of splines, with each spline in the following format:\n",
    "\n",
    "$N_k$ <br>\n",
    "$x_1$ $y_1$ <br>\n",
    "$x_2$ $y_2$ <br>\n",
    "$\\ldots$ <br>\n",
    "$x_{N_k}$ $y_{N_k}$\n",
    "\n",
    "\n",
    "This is repeated until the file ends (which can be detected using the `eof` function). It is recommended to open the file and look at some of the lines, to make sure you know exactly how it is formatted.\n",
    "\n",
    "Write a function\n",
    "\n",
    "```julia\n",
    "function read_splines(fname)\n",
    "```\n",
    "\n",
    "which opens a file `fname` containing splines as described above, and returns an array where the $k$-th element is an $N_k$-by-$2$\n",
    "matrix with the $x,y$-points for each spline (note that $N_k$ is in general different for each spline).\n",
    "\n",
    "*Hints*: This is probably easiest to do using strings and the `readline` function. To convert a string `str` to an integer, use `parse(Int64, str)`. To convert two numbers in the string to a vector of two floats, use `parse.(Float64, split(str))`."
   ]
  },
  {
   "cell_type": "code",
   "execution_count": null,
   "metadata": {},
   "outputs": [],
   "source": []
  },
  {
   "cell_type": "markdown",
   "metadata": {},
   "source": [
    "Test your function by reading the file `bmw.dat`:"
   ]
  },
  {
   "cell_type": "code",
   "execution_count": 6,
   "metadata": {},
   "outputs": [
    {
     "ename": "LoadError",
     "evalue": "UndefVarError: read_splines not defined",
     "output_type": "error",
     "traceback": [
      "UndefVarError: read_splines not defined",
      "",
      "Stacktrace:",
      " [1] top-level scope",
      "   @ In[6]:1",
      " [2] eval",
      "   @ ./boot.jl:360 [inlined]",
      " [3] include_string(mapexpr::typeof(REPL.softscope), mod::Module, code::String, filename::String)",
      "   @ Base ./loading.jl:1116"
     ]
    }
   ],
   "source": [
    "splines = read_splines(\"bmw.dat\")"
   ]
  },
  {
   "cell_type": "markdown",
   "metadata": {},
   "source": [
    "#### Problem 2(c) - Plotting an entire spline geometry\n",
    "\n",
    "Write a function\n",
    "\n",
    "```julia\n",
    "function plot_splines(splines)\n",
    "```\n",
    "\n",
    "which plots all the parametric spline curves in `splines` (an array like the one returned by `read_splines`)."
   ]
  },
  {
   "cell_type": "code",
   "execution_count": null,
   "metadata": {},
   "outputs": [],
   "source": []
  },
  {
   "cell_type": "markdown",
   "metadata": {},
   "source": [
    "Plot the car twice using the commands below:"
   ]
  },
  {
   "cell_type": "code",
   "execution_count": 7,
   "metadata": {},
   "outputs": [
    {
     "ename": "LoadError",
     "evalue": "UndefVarError: plot_splines not defined",
     "output_type": "error",
     "traceback": [
      "UndefVarError: plot_splines not defined",
      "",
      "Stacktrace:",
      " [1] top-level scope",
      "   @ In[7]:1",
      " [2] eval",
      "   @ ./boot.jl:360 [inlined]",
      " [3] include_string(mapexpr::typeof(REPL.softscope), mod::Module, code::String, filename::String)",
      "   @ Base ./loading.jl:1116"
     ]
    }
   ],
   "source": [
    "plot_splines(splines)"
   ]
  },
  {
   "cell_type": "code",
   "execution_count": 8,
   "metadata": {},
   "outputs": [
    {
     "ename": "LoadError",
     "evalue": "UndefVarError: plot_splines not defined",
     "output_type": "error",
     "traceback": [
      "UndefVarError: plot_splines not defined",
      "",
      "Stacktrace:",
      " [1] top-level scope",
      "   @ In[8]:1",
      " [2] eval",
      "   @ ./boot.jl:360 [inlined]",
      " [3] include_string(mapexpr::typeof(REPL.softscope), mod::Module, code::String, filename::String)",
      "   @ Base ./loading.jl:1116"
     ]
    }
   ],
   "source": [
    "plot_splines(splines);\n",
    "axis([-121,-110.5,10,19]);"
   ]
  },
  {
   "cell_type": "code",
   "execution_count": null,
   "metadata": {},
   "outputs": [],
   "source": []
  }
 ],
 "metadata": {
  "kernelspec": {
   "display_name": "Julia 1.6.3",
   "language": "julia",
   "name": "julia-1.6"
  },
  "language_info": {
   "file_extension": ".jl",
   "mimetype": "application/julia",
   "name": "julia",
   "version": "1.6.3"
  }
 },
 "nbformat": 4,
 "nbformat_minor": 2
}
