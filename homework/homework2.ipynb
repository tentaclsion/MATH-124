{
 "cells": [
  {
   "cell_type": "markdown",
   "metadata": {},
   "source": [
    "# Math 124 - Programming for Mathematical Applications\n",
    "UC Berkeley, Spring 2023\n",
    "\n",
    "## Homework 2\n",
    "Due Wednesday, February 1"
   ]
  },
  {
   "cell_type": "markdown",
   "metadata": {},
   "source": [
    "### Problem 1\n",
    "Consider the 4-term recurrence relation\n",
    "$$ay_{n+1} = by_n + cy_{n-1} + dy_{n-2}$$\n",
    "with $a=1$, $b=2$, $c=-5/4$, and $d=1/4$.\n",
    "\n",
    "### Problem 1 (a)\n",
    "\n",
    "Write a function `four_term(y0, y1, y2, n)` to return $y_n$ in this recurrence, taking in the initial values, $y_0$, $y_1$, and $y_2$. You can assume that $n \\ge 2$."
   ]
  },
  {
   "cell_type": "code",
   "execution_count": 60,
   "metadata": {},
   "outputs": [
    {
     "data": {
      "text/plain": [
       "four_term (generic function with 1 method)"
      ]
     },
     "execution_count": 60,
     "metadata": {},
     "output_type": "execute_result"
    }
   ],
   "source": [
    "function four_term(y0, y1, y2, n)\n",
    "    if n==0\n",
    "        return y0\n",
    "    elseif n==1\n",
    "        return y1\n",
    "    elseif n==2\n",
    "        return y2\n",
    "    else\n",
    "        iter = 3\n",
    "        a = 1\n",
    "        b = 2\n",
    "        c = -(5/4)\n",
    "        d = (1/4)\n",
    "        y_n_third = y0\n",
    "        y_n_second = y1\n",
    "        y_n_first = y2\n",
    "        y_n = 0\n",
    "        for i = 3:n\n",
    "            y_n = (b*y_n_first/a) + (c*y_n_second/a) + (d*y_n_third/a)\n",
    "            y_n_second = y_n_first\n",
    "            y_n_third = y_n_second\n",
    "            y_n_first = y_n\n",
    "        end\n",
    "        return y_n\n",
    "    end\n",
    "end"
   ]
  },
  {
   "cell_type": "markdown",
   "metadata": {},
   "source": [
    "### Problem 1 (b)\n",
    "Print out the results from evaluating the function with $y_0=1$, $y_1=5$, $y_2=-2$ and $n = 5, 10, 100, 500, 10000$. "
   ]
  },
  {
   "cell_type": "code",
   "execution_count": 63,
   "metadata": {},
   "outputs": [
    {
     "name": "stdout",
     "output_type": "stream",
     "text": [
      "5: -26.0\n",
      "10: -66.0\n",
      "100: -786.0\n",
      "500: -3986.0\n",
      "10000: -79986.0\n"
     ]
    }
   ],
   "source": [
    "n = [5, 10, 100, 500, 10000]\n",
    "for j in n\n",
    "    print(j)\n",
    "    print(\": \")\n",
    "    println(four_term(1,5,-2,j))\n",
    "end"
   ]
  },
  {
   "cell_type": "markdown",
   "metadata": {},
   "source": [
    "### Problem 1(c) \n",
    "Print out the results from evaluating the function with $y_0=-2$, $y_1=1$, $y_2=5$, and $n = 5, 10, 100, 500, 10000$. "
   ]
  },
  {
   "cell_type": "code",
   "execution_count": 64,
   "metadata": {},
   "outputs": [
    {
     "name": "stdout",
     "output_type": "stream",
     "text": [
      "5: 14.75\n",
      "10: 31.0\n",
      "100: 323.5\n",
      "500: 1623.5\n",
      "10000: 32498.5\n"
     ]
    }
   ],
   "source": [
    "for j in n\n",
    "    print(j)\n",
    "    print(\": \")\n",
    "    println(four_term(-2,1,5,j))\n",
    "end"
   ]
  },
  {
   "cell_type": "markdown",
   "metadata": {},
   "source": [
    "### Problem 2\n",
    "(Adapted from **Think**, P7-4)\n",
    "\n",
    "The following sequence converges to $\\pi$:\n",
    "$$a_n = \\sum_{k=0}^n \\left(\\cfrac{6}{\\sqrt{3}}\\right)\\cfrac{(-1)^k}{3^k(2k+1)}$$\n",
    "\n",
    "Moreover, the mathematician Srinivasa Ramanujan found an infinite series that can be used to generate a numerical approximation of $\\frac{1}{\\pi}$:\n",
    "$$\\cfrac{1}{\\pi} = \\sum_{k=0}^\\infty \\left( \\cfrac{2 \\sqrt{2}}{9801} \\right)\\cfrac{(4k)!(1103+26390k)}{(k!)^4 396^{4k}}$$\n",
    "\n",
    "### Problem 2 (a)\n",
    "Write a function `pi_a()` that uses this first formula to compute and return an estimate of $\\pi$ in a way that avoids overflow issues. It should use a while loop to compute terms of the summation until the **difference in two consecutive terms is smaller than $10^{-15}$**."
   ]
  },
  {
   "cell_type": "code",
   "execution_count": 69,
   "metadata": {},
   "outputs": [
    {
     "name": "stdout",
     "output_type": "stream",
     "text": [
      "Last difference between two consecutive terms: -8.555043546546598e-16\n",
      "Amount of iterations: 26\n",
      "Computed sum using the first sequence: 3.141592653589792\n"
     ]
    }
   ],
   "source": [
    "function pi_a()\n",
    "    i=0\n",
    "    x_current = 6/sqrt(3)\n",
    "    diff(k) = -(1/3) * (((2*k)+1)/((2*k)+3))\n",
    "    sum = 6/sqrt(3)\n",
    "    while true\n",
    "        x_current *= diff(i)\n",
    "        x_next = x_current * diff(i+1)\n",
    "        x_sec = x_next * diff(i+2)\n",
    "        sum = sum + x_current\n",
    "        if abs(x_sec) < (1e-15)\n",
    "            println(\"Last difference between two consecutive terms: \", x_sec)\n",
    "            println(\"Amount of iterations: \", i)\n",
    "            return sum\n",
    "            break\n",
    "        end\n",
    "        i = i + 1\n",
    "    end\n",
    "end\n",
    "println(\"Computed sum using the first sequence: \",pi_a())"
   ]
  },
  {
   "cell_type": "markdown",
   "metadata": {},
   "source": [
    "### Problem 2 (b)\n",
    "Write a function `pi_ramanu()` that uses Ramanujan's formula to compute and return an estimate of $\\pi$ in a way that avoids overflow issues. It should use a while loop to compute terms of the summation until **the last term is smaller than $10^{-15}$**."
   ]
  },
  {
   "cell_type": "code",
   "execution_count": 68,
   "metadata": {},
   "outputs": [
    {
     "name": "stdout",
     "output_type": "stream",
     "text": [
      "Current last term value: 6.479857051717436e-17\n",
      "Amount of iterations: 2\n",
      "Computed sum: 3.141592653589793\n"
     ]
    }
   ],
   "source": [
    "function pi_ramanu()\n",
    "    #Literal code translation: bruh(k) = 1/(((2*sqrt(2)) / 9801) * (factorial(4k)*(1103 + 26390*k) / ((factorial(k)^4) * 396^(4*k))))\n",
    "    i=0\n",
    "    sum_literal(k) = (((2*sqrt(2)) / 9801) * (factorial(4k)*(1103 + 26390*k) / ((factorial(k)^4) * 396^(4*k))))\n",
    "    x_current = sum_literal(0)\n",
    "    diff(k) = ((4*(4*k+3)*(4*k+2)*(4*k+1)*(27493+26390*k)) / (((k+1)^3) * (396^4) * (1103+26390*k)))\n",
    "    sum = sum_literal(0)\n",
    "    while x_current > (1e-15)\n",
    "        x_current *= diff(i)\n",
    "        sum = sum + x_current\n",
    "        i = i + 1\n",
    "    end\n",
    "    println(\"Current last term value: \",x_current)\n",
    "    println(\"Amount of iterations: \", i)\n",
    "    return 1/sum\n",
    "end\n",
    "println(\"Computed sum: \",pi_ramanu())"
   ]
  },
  {
   "cell_type": "markdown",
   "metadata": {},
   "source": [
    "### Problem 3\n",
    "(Adapted from Project Euler, Problem 3)\n",
    "\n",
    "We define the prime factors of a number as those prime numbers that exactly divide the original number. For instance, the prime factors of $13195$ are $5$, $7$, $13$, and $29$.\n",
    "\n",
    "What is the largest prime factor of the number $600855143$?\n",
    "\n",
    "Hint: One way to answer this question would be to create a function `is_prime(test_num)` that determines if a given number is prime, and then use this function to test candidate prime factors of our large number. Over what range of numbers should we loop in order to solve this problem, while testing only a small amount of candidates?"
   ]
  },
  {
   "cell_type": "code",
   "execution_count": 2,
   "metadata": {
    "scrolled": true
   },
   "outputs": [
    {
     "name": "stdout",
     "output_type": "stream",
     "text": [
      "Largest prime factor in 13195: 29\n",
      "Largest prime factor in 600855143: 85836449\n"
     ]
    }
   ],
   "source": [
    "function is_prime(test_num)\n",
    "    for i = 2:test_num-1\n",
    "        if test_num % i == 0\n",
    "            return false\n",
    "        end\n",
    "    end\n",
    "    return true\n",
    "end\n",
    "\n",
    "function largest_prime_factor(n)\n",
    "    max_prime = 0\n",
    "    for i = 2:n-1\n",
    "        if n % i == 0\n",
    "            if i%2 != 0\n",
    "                if(is_prime(i) && i > max_prime)\n",
    "                    max_prime = i\n",
    "                end\n",
    "            end\n",
    "        end\n",
    "    end\n",
    "    return max_prime\n",
    "end\n",
    "\n",
    "println(\"Largest prime factor in 13195: \",largest_prime_factor(13195))\n",
    "println(\"Largest prime factor in 600855143: \",largest_prime_factor(600855143))"
   ]
  },
  {
   "cell_type": "markdown",
   "metadata": {},
   "source": [
    "### Problem 4\n",
    "We wish to solve the equation $x = \\cos{x}$ for $x \\in \\mathbb{R}$. The fixed point iteration for this equation is defined to be:\n",
    "\n",
    "$$x_{n+1} = \\cos{(x_n)}$$\n",
    "\n",
    "where $x_n$ are successively better approximations to the true solution $x_*$. We start this iteration with the initial guess $x_0 = 1$.\n",
    "\n",
    "### Problem 4 (a)\n",
    "Write a function `fixed_point(tol)` that computes an approximate solution using this fixed point iteration such that the error $|x_n - x_{n-1}|$ is within a specified tolerance. Test it with `tol=1e-3, 1e-6, 1e-12`. How many iterations does it take each test to converge?"
   ]
  },
  {
   "cell_type": "code",
   "execution_count": 1,
   "metadata": {},
   "outputs": [
    {
     "name": "stdout",
     "output_type": "stream",
     "text": [
      "x_n+1 value and amount of iterations for tolerance of 1e-3: (0.7387603198742114, 17)\n",
      "x_n+1 value and amount of iterations for tolerance of 1e-6: (0.7390855263619245, 34)\n",
      "x_n+1 value and amount of iterations for tolerance of 1e-12: (0.7390851332147725, 69)\n"
     ]
    }
   ],
   "source": [
    "function fixed_point(tol)\n",
    "    x_prev = 1\n",
    "    iterations = 0\n",
    "    while true\n",
    "        iterations += 1\n",
    "        x_next = cos(x_prev)\n",
    "        if abs(x_next - x_prev) <= tol\n",
    "            return x_next, iterations\n",
    "            break\n",
    "        end\n",
    "        x_prev = x_next\n",
    "    end\n",
    "end\n",
    "println(\"x_n+1 value and amount of iterations for tolerance of 1e-3: \",fixed_point(1e-3))\n",
    "println(\"x_n+1 value and amount of iterations for tolerance of 1e-6: \",fixed_point(1e-6))\n",
    "println(\"x_n+1 value and amount of iterations for tolerance of 1e-12: \",fixed_point(1e-12))"
   ]
  },
  {
   "cell_type": "markdown",
   "metadata": {},
   "source": [
    "### Problem 4 (b)\n",
    "Derive Newton's method for solving the equation $x = \\cos{x}$."
   ]
  },
  {
   "cell_type": "markdown",
   "metadata": {},
   "source": [
    "## Deriving Newton's method for solving the equation $x = \\cos x.$\n",
    "#### Overview of Newton's Method\n",
    "* Newton's method solves equations of the form $f(x) = 0$ through a series of approximations. Mathematically,\n",
    "\n",
    "$$\n",
    "x_{n+1} = x_{n} - \\frac{f(x_{n})}{f'(x_{n})}\n",
    "$$\n",
    "\n",
    "* In regards to solving $\\cos x$, we must convert $x = \\cos x$ into a form analagous to $f(x) = 0$\n",
    "\n",
    "$$\n",
    "x = \\cos x \\quad\\rightarrow\\quad x - \\cos x = 0 = f(x)\n",
    "$$\n",
    "\n",
    "\n",
    "$$\n",
    "f'(x) = \\frac{d}{dx}(f(x)) = \\frac{d}{dx}(x - \\cos x)\n",
    "$$\n",
    "\n",
    "\n",
    "$$\n",
    "f'(x) = 1 + \\sin x\n",
    "$$\n",
    "\n",
    "* Whcih in terms of Newton's series of approximations,\n",
    "$$\n",
    "f(x) = x - \\cos x\n",
    "$$\n",
    "\n",
    "\n",
    "$$\n",
    "f'(x) = 1 + \\sin x\n",
    "$$\n",
    "\n",
    "\n",
    "$$\n",
    "    x_{n+1} = x_{n} - \\frac{x_{n} - \\cos x_{n}}{1 + \\sin x_{n}}\n",
    "$$"
   ]
  },
  {
   "cell_type": "markdown",
   "metadata": {},
   "source": [
    "### Problem 4 (c)\n",
    "Write a function `newton_method(tol)` to compute an approximate solution using Newton's method, such that the error is within a specified tolerance. Again use the initial guess $x_0 = 1$. Test it with `tol=1e-3, 1e-6, 1e-12`. How many iterations does it take each test to converge?"
   ]
  },
  {
   "cell_type": "code",
   "execution_count": 80,
   "metadata": {},
   "outputs": [
    {
     "name": "stdout",
     "output_type": "stream",
     "text": [
      "Newton's method up until a tolerance of 1e-3: 0.739085133385284\n",
      "Newton's method up until a tolerance of 1e-6: 0.7390851332151607\n",
      "Newton's method up until a tolerance of 1e-12: 0.7390851332151607\n"
     ]
    }
   ],
   "source": [
    "function newton_method(tol)\n",
    "    x = 1\n",
    "    d_x = 1\n",
    "    while d_x > tol\n",
    "        x_next = x - ((x - cos(x))/(1 + sin(x)))\n",
    "        d_x = abs(x_next - x)\n",
    "        x = x_next\n",
    "    end\n",
    "    return x\n",
    "end\n",
    "println(\"Newton's method up until a tolerance of 1e-3: \", newton_method(1e-3))\n",
    "println(\"Newton's method up until a tolerance of 1e-6: \", newton_method(1e-6))\n",
    "println(\"Newton's method up until a tolerance of 1e-12: \", newton_method(1e-12))"
   ]
  }
 ],
 "metadata": {
  "kernelspec": {
   "display_name": "Julia 1.6.3",
   "language": "julia",
   "name": "julia-1.6"
  },
  "language_info": {
   "file_extension": ".jl",
   "mimetype": "application/julia",
   "name": "julia",
   "version": "1.6.3"
  }
 },
 "nbformat": 4,
 "nbformat_minor": 2
}
